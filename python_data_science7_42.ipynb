{
  "nbformat": 4,
  "nbformat_minor": 0,
  "metadata": {
    "colab": {
      "name": "python-data-science7-42.ipynb",
      "version": "0.3.2",
      "provenance": [],
      "include_colab_link": true
    },
    "kernelspec": {
      "name": "python3",
      "display_name": "Python 3"
    }
  },
  "cells": [
    {
      "cell_type": "markdown",
      "metadata": {
        "id": "view-in-github",
        "colab_type": "text"
      },
      "source": [
        "[View in Colaboratory](https://colab.research.google.com/github/tkms0106/python-data-science/blob/master/python_data_science7_42.ipynb)"
      ]
    },
    {
      "metadata": {
        "id": "q6U2tOrnRsrY",
        "colab_type": "code",
        "colab": {}
      },
      "cell_type": "code",
      "source": [
        "import numpy as np\n",
        "import pandas as pd\n",
        "from pandas import DataFrame"
      ],
      "execution_count": 0,
      "outputs": []
    },
    {
      "metadata": {
        "id": "JOn_2KVkR03C",
        "colab_type": "code",
        "colab": {}
      },
      "cell_type": "code",
      "source": [
        "dframe = DataFrame({'k1':['X','X','Y','Y','Z'],\n",
        "                   'k2':['alpha','beta','alpha','beta','alpha'],\n",
        "                   'dataset1':np.random.randn(5),\n",
        "                   'dataset2':np.random.randn(5)})"
      ],
      "execution_count": 0,
      "outputs": []
    },
    {
      "metadata": {
        "id": "7VWsQpzXSMHx",
        "colab_type": "code",
        "colab": {
          "base_uri": "https://localhost:8080/",
          "height": 202
        },
        "outputId": "a5102711-95fe-4eaf-8a57-933444b84765"
      },
      "cell_type": "code",
      "source": [
        "dframe"
      ],
      "execution_count": 3,
      "outputs": [
        {
          "output_type": "execute_result",
          "data": {
            "text/html": [
              "<div>\n",
              "<style scoped>\n",
              "    .dataframe tbody tr th:only-of-type {\n",
              "        vertical-align: middle;\n",
              "    }\n",
              "\n",
              "    .dataframe tbody tr th {\n",
              "        vertical-align: top;\n",
              "    }\n",
              "\n",
              "    .dataframe thead th {\n",
              "        text-align: right;\n",
              "    }\n",
              "</style>\n",
              "<table border=\"1\" class=\"dataframe\">\n",
              "  <thead>\n",
              "    <tr style=\"text-align: right;\">\n",
              "      <th></th>\n",
              "      <th>dataset1</th>\n",
              "      <th>dataset2</th>\n",
              "      <th>k1</th>\n",
              "      <th>k2</th>\n",
              "    </tr>\n",
              "  </thead>\n",
              "  <tbody>\n",
              "    <tr>\n",
              "      <th>0</th>\n",
              "      <td>-0.109430</td>\n",
              "      <td>-1.370013</td>\n",
              "      <td>X</td>\n",
              "      <td>alpha</td>\n",
              "    </tr>\n",
              "    <tr>\n",
              "      <th>1</th>\n",
              "      <td>0.163316</td>\n",
              "      <td>-1.328812</td>\n",
              "      <td>X</td>\n",
              "      <td>beta</td>\n",
              "    </tr>\n",
              "    <tr>\n",
              "      <th>2</th>\n",
              "      <td>-0.388909</td>\n",
              "      <td>0.320935</td>\n",
              "      <td>Y</td>\n",
              "      <td>alpha</td>\n",
              "    </tr>\n",
              "    <tr>\n",
              "      <th>3</th>\n",
              "      <td>0.874927</td>\n",
              "      <td>-0.346084</td>\n",
              "      <td>Y</td>\n",
              "      <td>beta</td>\n",
              "    </tr>\n",
              "    <tr>\n",
              "      <th>4</th>\n",
              "      <td>0.539815</td>\n",
              "      <td>1.781319</td>\n",
              "      <td>Z</td>\n",
              "      <td>alpha</td>\n",
              "    </tr>\n",
              "  </tbody>\n",
              "</table>\n",
              "</div>"
            ],
            "text/plain": [
              "   dataset1  dataset2 k1     k2\n",
              "0 -0.109430 -1.370013  X  alpha\n",
              "1  0.163316 -1.328812  X   beta\n",
              "2 -0.388909  0.320935  Y  alpha\n",
              "3  0.874927 -0.346084  Y   beta\n",
              "4  0.539815  1.781319  Z  alpha"
            ]
          },
          "metadata": {
            "tags": []
          },
          "execution_count": 3
        }
      ]
    },
    {
      "metadata": {
        "id": "kIa1VyBcSMfO",
        "colab_type": "code",
        "colab": {}
      },
      "cell_type": "code",
      "source": [
        "group1 = dframe['dataset1'].groupby(dframe['k1'])"
      ],
      "execution_count": 0,
      "outputs": []
    },
    {
      "metadata": {
        "id": "s_xnN-CZSazR",
        "colab_type": "code",
        "colab": {
          "base_uri": "https://localhost:8080/",
          "height": 34
        },
        "outputId": "57bd496d-fbf3-4c12-db3b-0eab8bbec0a1"
      },
      "cell_type": "code",
      "source": [
        "group1"
      ],
      "execution_count": 5,
      "outputs": [
        {
          "output_type": "execute_result",
          "data": {
            "text/plain": [
              "<pandas.core.groupby.SeriesGroupBy object at 0x7f4be7707d30>"
            ]
          },
          "metadata": {
            "tags": []
          },
          "execution_count": 5
        }
      ]
    },
    {
      "metadata": {
        "id": "8dA8lYETSblo",
        "colab_type": "code",
        "colab": {
          "base_uri": "https://localhost:8080/",
          "height": 101
        },
        "outputId": "ed2e6606-965b-451c-ae70-9d3aa788f27f"
      },
      "cell_type": "code",
      "source": [
        "group1.mean()"
      ],
      "execution_count": 6,
      "outputs": [
        {
          "output_type": "execute_result",
          "data": {
            "text/plain": [
              "k1\n",
              "X    0.026943\n",
              "Y    0.243009\n",
              "Z    0.539815\n",
              "Name: dataset1, dtype: float64"
            ]
          },
          "metadata": {
            "tags": []
          },
          "execution_count": 6
        }
      ]
    },
    {
      "metadata": {
        "id": "GCagzA9pSgx-",
        "colab_type": "code",
        "colab": {}
      },
      "cell_type": "code",
      "source": [
        "cities = np.array(['NY', 'LA', 'LA', 'NY', 'NY'])\n",
        "month = np.array([ 'JAN','FEB','JAN','FEB','JAN'])"
      ],
      "execution_count": 0,
      "outputs": []
    },
    {
      "metadata": {
        "id": "C_TqxB8-TJJU",
        "colab_type": "code",
        "colab": {
          "base_uri": "https://localhost:8080/",
          "height": 202
        },
        "outputId": "6d2d5aa2-36dd-4062-e73d-6e00bfb5b5ea"
      },
      "cell_type": "code",
      "source": [
        "dframe"
      ],
      "execution_count": 8,
      "outputs": [
        {
          "output_type": "execute_result",
          "data": {
            "text/html": [
              "<div>\n",
              "<style scoped>\n",
              "    .dataframe tbody tr th:only-of-type {\n",
              "        vertical-align: middle;\n",
              "    }\n",
              "\n",
              "    .dataframe tbody tr th {\n",
              "        vertical-align: top;\n",
              "    }\n",
              "\n",
              "    .dataframe thead th {\n",
              "        text-align: right;\n",
              "    }\n",
              "</style>\n",
              "<table border=\"1\" class=\"dataframe\">\n",
              "  <thead>\n",
              "    <tr style=\"text-align: right;\">\n",
              "      <th></th>\n",
              "      <th>dataset1</th>\n",
              "      <th>dataset2</th>\n",
              "      <th>k1</th>\n",
              "      <th>k2</th>\n",
              "    </tr>\n",
              "  </thead>\n",
              "  <tbody>\n",
              "    <tr>\n",
              "      <th>0</th>\n",
              "      <td>-0.109430</td>\n",
              "      <td>-1.370013</td>\n",
              "      <td>X</td>\n",
              "      <td>alpha</td>\n",
              "    </tr>\n",
              "    <tr>\n",
              "      <th>1</th>\n",
              "      <td>0.163316</td>\n",
              "      <td>-1.328812</td>\n",
              "      <td>X</td>\n",
              "      <td>beta</td>\n",
              "    </tr>\n",
              "    <tr>\n",
              "      <th>2</th>\n",
              "      <td>-0.388909</td>\n",
              "      <td>0.320935</td>\n",
              "      <td>Y</td>\n",
              "      <td>alpha</td>\n",
              "    </tr>\n",
              "    <tr>\n",
              "      <th>3</th>\n",
              "      <td>0.874927</td>\n",
              "      <td>-0.346084</td>\n",
              "      <td>Y</td>\n",
              "      <td>beta</td>\n",
              "    </tr>\n",
              "    <tr>\n",
              "      <th>4</th>\n",
              "      <td>0.539815</td>\n",
              "      <td>1.781319</td>\n",
              "      <td>Z</td>\n",
              "      <td>alpha</td>\n",
              "    </tr>\n",
              "  </tbody>\n",
              "</table>\n",
              "</div>"
            ],
            "text/plain": [
              "   dataset1  dataset2 k1     k2\n",
              "0 -0.109430 -1.370013  X  alpha\n",
              "1  0.163316 -1.328812  X   beta\n",
              "2 -0.388909  0.320935  Y  alpha\n",
              "3  0.874927 -0.346084  Y   beta\n",
              "4  0.539815  1.781319  Z  alpha"
            ]
          },
          "metadata": {
            "tags": []
          },
          "execution_count": 8
        }
      ]
    },
    {
      "metadata": {
        "id": "55QdiwTATJ53",
        "colab_type": "code",
        "colab": {
          "base_uri": "https://localhost:8080/",
          "height": 101
        },
        "outputId": "70c95788-410d-4f83-fe96-a65ce344ed81"
      },
      "cell_type": "code",
      "source": [
        "dframe['dataset1'].groupby([cities, month]).mean()"
      ],
      "execution_count": 10,
      "outputs": [
        {
          "output_type": "execute_result",
          "data": {
            "text/plain": [
              "LA  FEB    0.163316\n",
              "    JAN   -0.388909\n",
              "NY  FEB    0.874927\n",
              "    JAN    0.215192\n",
              "Name: dataset1, dtype: float64"
            ]
          },
          "metadata": {
            "tags": []
          },
          "execution_count": 10
        }
      ]
    },
    {
      "metadata": {
        "id": "sx2lX7evTTQu",
        "colab_type": "code",
        "colab": {
          "base_uri": "https://localhost:8080/",
          "height": 171
        },
        "outputId": "14fe350c-e327-41c0-b165-80d92c06d9f4"
      },
      "cell_type": "code",
      "source": [
        "dframe.groupby('k1').mean()"
      ],
      "execution_count": 11,
      "outputs": [
        {
          "output_type": "execute_result",
          "data": {
            "text/html": [
              "<div>\n",
              "<style scoped>\n",
              "    .dataframe tbody tr th:only-of-type {\n",
              "        vertical-align: middle;\n",
              "    }\n",
              "\n",
              "    .dataframe tbody tr th {\n",
              "        vertical-align: top;\n",
              "    }\n",
              "\n",
              "    .dataframe thead th {\n",
              "        text-align: right;\n",
              "    }\n",
              "</style>\n",
              "<table border=\"1\" class=\"dataframe\">\n",
              "  <thead>\n",
              "    <tr style=\"text-align: right;\">\n",
              "      <th></th>\n",
              "      <th>dataset1</th>\n",
              "      <th>dataset2</th>\n",
              "    </tr>\n",
              "    <tr>\n",
              "      <th>k1</th>\n",
              "      <th></th>\n",
              "      <th></th>\n",
              "    </tr>\n",
              "  </thead>\n",
              "  <tbody>\n",
              "    <tr>\n",
              "      <th>X</th>\n",
              "      <td>0.026943</td>\n",
              "      <td>-1.349413</td>\n",
              "    </tr>\n",
              "    <tr>\n",
              "      <th>Y</th>\n",
              "      <td>0.243009</td>\n",
              "      <td>-0.012575</td>\n",
              "    </tr>\n",
              "    <tr>\n",
              "      <th>Z</th>\n",
              "      <td>0.539815</td>\n",
              "      <td>1.781319</td>\n",
              "    </tr>\n",
              "  </tbody>\n",
              "</table>\n",
              "</div>"
            ],
            "text/plain": [
              "    dataset1  dataset2\n",
              "k1                    \n",
              "X   0.026943 -1.349413\n",
              "Y   0.243009 -0.012575\n",
              "Z   0.539815  1.781319"
            ]
          },
          "metadata": {
            "tags": []
          },
          "execution_count": 11
        }
      ]
    },
    {
      "metadata": {
        "id": "dh7mmq9PT3ha",
        "colab_type": "code",
        "colab": {
          "base_uri": "https://localhost:8080/",
          "height": 233
        },
        "outputId": "237534db-c010-4ef7-85c6-af655d5cebb8"
      },
      "cell_type": "code",
      "source": [
        "dframe.groupby(['k1','k2']).mean()"
      ],
      "execution_count": 13,
      "outputs": [
        {
          "output_type": "execute_result",
          "data": {
            "text/html": [
              "<div>\n",
              "<style scoped>\n",
              "    .dataframe tbody tr th:only-of-type {\n",
              "        vertical-align: middle;\n",
              "    }\n",
              "\n",
              "    .dataframe tbody tr th {\n",
              "        vertical-align: top;\n",
              "    }\n",
              "\n",
              "    .dataframe thead th {\n",
              "        text-align: right;\n",
              "    }\n",
              "</style>\n",
              "<table border=\"1\" class=\"dataframe\">\n",
              "  <thead>\n",
              "    <tr style=\"text-align: right;\">\n",
              "      <th></th>\n",
              "      <th></th>\n",
              "      <th>dataset1</th>\n",
              "      <th>dataset2</th>\n",
              "    </tr>\n",
              "    <tr>\n",
              "      <th>k1</th>\n",
              "      <th>k2</th>\n",
              "      <th></th>\n",
              "      <th></th>\n",
              "    </tr>\n",
              "  </thead>\n",
              "  <tbody>\n",
              "    <tr>\n",
              "      <th rowspan=\"2\" valign=\"top\">X</th>\n",
              "      <th>alpha</th>\n",
              "      <td>-0.109430</td>\n",
              "      <td>-1.370013</td>\n",
              "    </tr>\n",
              "    <tr>\n",
              "      <th>beta</th>\n",
              "      <td>0.163316</td>\n",
              "      <td>-1.328812</td>\n",
              "    </tr>\n",
              "    <tr>\n",
              "      <th rowspan=\"2\" valign=\"top\">Y</th>\n",
              "      <th>alpha</th>\n",
              "      <td>-0.388909</td>\n",
              "      <td>0.320935</td>\n",
              "    </tr>\n",
              "    <tr>\n",
              "      <th>beta</th>\n",
              "      <td>0.874927</td>\n",
              "      <td>-0.346084</td>\n",
              "    </tr>\n",
              "    <tr>\n",
              "      <th>Z</th>\n",
              "      <th>alpha</th>\n",
              "      <td>0.539815</td>\n",
              "      <td>1.781319</td>\n",
              "    </tr>\n",
              "  </tbody>\n",
              "</table>\n",
              "</div>"
            ],
            "text/plain": [
              "          dataset1  dataset2\n",
              "k1 k2                       \n",
              "X  alpha -0.109430 -1.370013\n",
              "   beta   0.163316 -1.328812\n",
              "Y  alpha -0.388909  0.320935\n",
              "   beta   0.874927 -0.346084\n",
              "Z  alpha  0.539815  1.781319"
            ]
          },
          "metadata": {
            "tags": []
          },
          "execution_count": 13
        }
      ]
    },
    {
      "metadata": {
        "id": "BLD9iZHmUFSl",
        "colab_type": "code",
        "colab": {}
      },
      "cell_type": "code",
      "source": [
        "dataset2_group = dframe.groupby(['k1','k2'])[['dataset2']]"
      ],
      "execution_count": 0,
      "outputs": []
    },
    {
      "metadata": {
        "id": "pCTeb7Z8UYgp",
        "colab_type": "code",
        "colab": {
          "base_uri": "https://localhost:8080/",
          "height": 233
        },
        "outputId": "7630bac6-9d31-4a30-de68-07a860b33d66"
      },
      "cell_type": "code",
      "source": [
        "dataset2_group.mean()"
      ],
      "execution_count": 15,
      "outputs": [
        {
          "output_type": "execute_result",
          "data": {
            "text/html": [
              "<div>\n",
              "<style scoped>\n",
              "    .dataframe tbody tr th:only-of-type {\n",
              "        vertical-align: middle;\n",
              "    }\n",
              "\n",
              "    .dataframe tbody tr th {\n",
              "        vertical-align: top;\n",
              "    }\n",
              "\n",
              "    .dataframe thead th {\n",
              "        text-align: right;\n",
              "    }\n",
              "</style>\n",
              "<table border=\"1\" class=\"dataframe\">\n",
              "  <thead>\n",
              "    <tr style=\"text-align: right;\">\n",
              "      <th></th>\n",
              "      <th></th>\n",
              "      <th>dataset2</th>\n",
              "    </tr>\n",
              "    <tr>\n",
              "      <th>k1</th>\n",
              "      <th>k2</th>\n",
              "      <th></th>\n",
              "    </tr>\n",
              "  </thead>\n",
              "  <tbody>\n",
              "    <tr>\n",
              "      <th rowspan=\"2\" valign=\"top\">X</th>\n",
              "      <th>alpha</th>\n",
              "      <td>-1.370013</td>\n",
              "    </tr>\n",
              "    <tr>\n",
              "      <th>beta</th>\n",
              "      <td>-1.328812</td>\n",
              "    </tr>\n",
              "    <tr>\n",
              "      <th rowspan=\"2\" valign=\"top\">Y</th>\n",
              "      <th>alpha</th>\n",
              "      <td>0.320935</td>\n",
              "    </tr>\n",
              "    <tr>\n",
              "      <th>beta</th>\n",
              "      <td>-0.346084</td>\n",
              "    </tr>\n",
              "    <tr>\n",
              "      <th>Z</th>\n",
              "      <th>alpha</th>\n",
              "      <td>1.781319</td>\n",
              "    </tr>\n",
              "  </tbody>\n",
              "</table>\n",
              "</div>"
            ],
            "text/plain": [
              "          dataset2\n",
              "k1 k2             \n",
              "X  alpha -1.370013\n",
              "   beta  -1.328812\n",
              "Y  alpha  0.320935\n",
              "   beta  -0.346084\n",
              "Z  alpha  1.781319"
            ]
          },
          "metadata": {
            "tags": []
          },
          "execution_count": 15
        }
      ]
    },
    {
      "metadata": {
        "id": "0rMygvceUaom",
        "colab_type": "code",
        "colab": {
          "base_uri": "https://localhost:8080/",
          "height": 101
        },
        "outputId": "76555533-d146-47ec-db28-26d6bf319353"
      },
      "cell_type": "code",
      "source": [
        "dframe.groupby(['k1']).size()"
      ],
      "execution_count": 16,
      "outputs": [
        {
          "output_type": "execute_result",
          "data": {
            "text/plain": [
              "k1\n",
              "X    2\n",
              "Y    2\n",
              "Z    1\n",
              "dtype: int64"
            ]
          },
          "metadata": {
            "tags": []
          },
          "execution_count": 16
        }
      ]
    },
    {
      "metadata": {
        "id": "fbwMGV5WUlIf",
        "colab_type": "code",
        "colab": {
          "base_uri": "https://localhost:8080/",
          "height": 305
        },
        "outputId": "16591995-d66b-40da-be57-11d7ac7e814a"
      },
      "cell_type": "code",
      "source": [
        "for name, group in dframe.groupby('k1'):\n",
        "  print('This is the {} group'.format(name))\n",
        "  print(group)\n",
        "  print('\\n')"
      ],
      "execution_count": 19,
      "outputs": [
        {
          "output_type": "stream",
          "text": [
            "This is the X group\n",
            "   dataset1  dataset2 k1     k2\n",
            "0 -0.109430 -1.370013  X  alpha\n",
            "1  0.163316 -1.328812  X   beta\n",
            "\n",
            "\n",
            "This is the Y group\n",
            "   dataset1  dataset2 k1     k2\n",
            "2 -0.388909  0.320935  Y  alpha\n",
            "3  0.874927 -0.346084  Y   beta\n",
            "\n",
            "\n",
            "This is the Z group\n",
            "   dataset1  dataset2 k1     k2\n",
            "4  0.539815  1.781319  Z  alpha\n",
            "\n",
            "\n"
          ],
          "name": "stdout"
        }
      ]
    },
    {
      "metadata": {
        "id": "29h6HWgsU9Du",
        "colab_type": "code",
        "colab": {
          "base_uri": "https://localhost:8080/",
          "height": 440
        },
        "outputId": "cf36bdfe-1c0e-4d2f-c279-60cef2540591"
      },
      "cell_type": "code",
      "source": [
        "for (k1,k2), group in dframe.groupby(['k1','k2']):\n",
        "  print('Key1 = {} Key2 = {}'.format(k1,k2))\n",
        "  print(group)\n",
        "  print('\\n')"
      ],
      "execution_count": 21,
      "outputs": [
        {
          "output_type": "stream",
          "text": [
            "Key1 = X Key2 = alpha\n",
            "   dataset1  dataset2 k1     k2\n",
            "0  -0.10943 -1.370013  X  alpha\n",
            "\n",
            "\n",
            "Key1 = X Key2 = beta\n",
            "   dataset1  dataset2 k1    k2\n",
            "1  0.163316 -1.328812  X  beta\n",
            "\n",
            "\n",
            "Key1 = Y Key2 = alpha\n",
            "   dataset1  dataset2 k1     k2\n",
            "2 -0.388909  0.320935  Y  alpha\n",
            "\n",
            "\n",
            "Key1 = Y Key2 = beta\n",
            "   dataset1  dataset2 k1    k2\n",
            "3  0.874927 -0.346084  Y  beta\n",
            "\n",
            "\n",
            "Key1 = Z Key2 = alpha\n",
            "   dataset1  dataset2 k1     k2\n",
            "4  0.539815  1.781319  Z  alpha\n",
            "\n",
            "\n"
          ],
          "name": "stdout"
        }
      ]
    },
    {
      "metadata": {
        "id": "wf7nSEg8VSUn",
        "colab_type": "code",
        "colab": {}
      },
      "cell_type": "code",
      "source": [
        "gr = dframe.groupby('k1')"
      ],
      "execution_count": 0,
      "outputs": []
    },
    {
      "metadata": {
        "id": "Ugb-Q9IGVkFH",
        "colab_type": "code",
        "colab": {
          "base_uri": "https://localhost:8080/",
          "height": 110
        },
        "outputId": "188538ae-cdf5-466a-f58a-d9607952c677"
      },
      "cell_type": "code",
      "source": [
        "gr.get_group('X')"
      ],
      "execution_count": 23,
      "outputs": [
        {
          "output_type": "execute_result",
          "data": {
            "text/html": [
              "<div>\n",
              "<style scoped>\n",
              "    .dataframe tbody tr th:only-of-type {\n",
              "        vertical-align: middle;\n",
              "    }\n",
              "\n",
              "    .dataframe tbody tr th {\n",
              "        vertical-align: top;\n",
              "    }\n",
              "\n",
              "    .dataframe thead th {\n",
              "        text-align: right;\n",
              "    }\n",
              "</style>\n",
              "<table border=\"1\" class=\"dataframe\">\n",
              "  <thead>\n",
              "    <tr style=\"text-align: right;\">\n",
              "      <th></th>\n",
              "      <th>dataset1</th>\n",
              "      <th>dataset2</th>\n",
              "      <th>k1</th>\n",
              "      <th>k2</th>\n",
              "    </tr>\n",
              "  </thead>\n",
              "  <tbody>\n",
              "    <tr>\n",
              "      <th>0</th>\n",
              "      <td>-0.109430</td>\n",
              "      <td>-1.370013</td>\n",
              "      <td>X</td>\n",
              "      <td>alpha</td>\n",
              "    </tr>\n",
              "    <tr>\n",
              "      <th>1</th>\n",
              "      <td>0.163316</td>\n",
              "      <td>-1.328812</td>\n",
              "      <td>X</td>\n",
              "      <td>beta</td>\n",
              "    </tr>\n",
              "  </tbody>\n",
              "</table>\n",
              "</div>"
            ],
            "text/plain": [
              "   dataset1  dataset2 k1     k2\n",
              "0 -0.109430 -1.370013  X  alpha\n",
              "1  0.163316 -1.328812  X   beta"
            ]
          },
          "metadata": {
            "tags": []
          },
          "execution_count": 23
        }
      ]
    },
    {
      "metadata": {
        "id": "wanAMOj6Vm_1",
        "colab_type": "code",
        "colab": {}
      },
      "cell_type": "code",
      "source": [
        "group_dict = dict(list(dframe.groupby('k1')))"
      ],
      "execution_count": 0,
      "outputs": []
    },
    {
      "metadata": {
        "id": "X9vzUEp1VuuX",
        "colab_type": "code",
        "colab": {
          "base_uri": "https://localhost:8080/",
          "height": 118
        },
        "outputId": "fcbc5ec1-a834-4445-a815-d8909e47605a"
      },
      "cell_type": "code",
      "source": [
        "group_dict"
      ],
      "execution_count": 25,
      "outputs": [
        {
          "output_type": "execute_result",
          "data": {
            "text/plain": [
              "{'X':    dataset1  dataset2 k1     k2\n",
              " 0 -0.109430 -1.370013  X  alpha\n",
              " 1  0.163316 -1.328812  X   beta, 'Y':    dataset1  dataset2 k1     k2\n",
              " 2 -0.388909  0.320935  Y  alpha\n",
              " 3  0.874927 -0.346084  Y   beta, 'Z':    dataset1  dataset2 k1     k2\n",
              " 4  0.539815  1.781319  Z  alpha}"
            ]
          },
          "metadata": {
            "tags": []
          },
          "execution_count": 25
        }
      ]
    },
    {
      "metadata": {
        "id": "r7ClHwpBVwT8",
        "colab_type": "code",
        "colab": {
          "base_uri": "https://localhost:8080/",
          "height": 110
        },
        "outputId": "4e872c57-2c68-408e-a909-cda3093cbfae"
      },
      "cell_type": "code",
      "source": [
        "group_dict['X']"
      ],
      "execution_count": 26,
      "outputs": [
        {
          "output_type": "execute_result",
          "data": {
            "text/html": [
              "<div>\n",
              "<style scoped>\n",
              "    .dataframe tbody tr th:only-of-type {\n",
              "        vertical-align: middle;\n",
              "    }\n",
              "\n",
              "    .dataframe tbody tr th {\n",
              "        vertical-align: top;\n",
              "    }\n",
              "\n",
              "    .dataframe thead th {\n",
              "        text-align: right;\n",
              "    }\n",
              "</style>\n",
              "<table border=\"1\" class=\"dataframe\">\n",
              "  <thead>\n",
              "    <tr style=\"text-align: right;\">\n",
              "      <th></th>\n",
              "      <th>dataset1</th>\n",
              "      <th>dataset2</th>\n",
              "      <th>k1</th>\n",
              "      <th>k2</th>\n",
              "    </tr>\n",
              "  </thead>\n",
              "  <tbody>\n",
              "    <tr>\n",
              "      <th>0</th>\n",
              "      <td>-0.109430</td>\n",
              "      <td>-1.370013</td>\n",
              "      <td>X</td>\n",
              "      <td>alpha</td>\n",
              "    </tr>\n",
              "    <tr>\n",
              "      <th>1</th>\n",
              "      <td>0.163316</td>\n",
              "      <td>-1.328812</td>\n",
              "      <td>X</td>\n",
              "      <td>beta</td>\n",
              "    </tr>\n",
              "  </tbody>\n",
              "</table>\n",
              "</div>"
            ],
            "text/plain": [
              "   dataset1  dataset2 k1     k2\n",
              "0 -0.109430 -1.370013  X  alpha\n",
              "1  0.163316 -1.328812  X   beta"
            ]
          },
          "metadata": {
            "tags": []
          },
          "execution_count": 26
        }
      ]
    },
    {
      "metadata": {
        "id": "O1zZSzMSV1Yw",
        "colab_type": "code",
        "colab": {}
      },
      "cell_type": "code",
      "source": [
        "group_dict_axis1 = dict(list(dframe.groupby(dframe.dtypes, axis=1)))"
      ],
      "execution_count": 0,
      "outputs": []
    },
    {
      "metadata": {
        "id": "KeP9tDYfWCjo",
        "colab_type": "code",
        "colab": {
          "base_uri": "https://localhost:8080/",
          "height": 203
        },
        "outputId": "b9b1f6f7-497d-45f2-c9b4-c1a8116c48b6"
      },
      "cell_type": "code",
      "source": [
        "group_dict_axis1"
      ],
      "execution_count": 29,
      "outputs": [
        {
          "output_type": "execute_result",
          "data": {
            "text/plain": [
              "{dtype('float64'):    dataset1  dataset2\n",
              " 0 -0.109430 -1.370013\n",
              " 1  0.163316 -1.328812\n",
              " 2 -0.388909  0.320935\n",
              " 3  0.874927 -0.346084\n",
              " 4  0.539815  1.781319, dtype('O'):   k1     k2\n",
              " 0  X  alpha\n",
              " 1  X   beta\n",
              " 2  Y  alpha\n",
              " 3  Y   beta\n",
              " 4  Z  alpha}"
            ]
          },
          "metadata": {
            "tags": []
          },
          "execution_count": 29
        }
      ]
    },
    {
      "metadata": {
        "id": "HF3ZfOLKWGYZ",
        "colab_type": "code",
        "colab": {}
      },
      "cell_type": "code",
      "source": [
        ""
      ],
      "execution_count": 0,
      "outputs": []
    }
  ]
}