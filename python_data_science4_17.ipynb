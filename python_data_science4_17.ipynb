{
  "nbformat": 4,
  "nbformat_minor": 0,
  "metadata": {
    "colab": {
      "name": "python-data-science4-17.ipynb",
      "version": "0.3.2",
      "provenance": [],
      "include_colab_link": true
    },
    "kernelspec": {
      "name": "python3",
      "display_name": "Python 3"
    }
  },
  "cells": [
    {
      "cell_type": "markdown",
      "metadata": {
        "id": "view-in-github",
        "colab_type": "text"
      },
      "source": [
        "[View in Colaboratory](https://colab.research.google.com/github/tkms0106/python-data-science/blob/master/python_data_science4_17.ipynb)"
      ]
    },
    {
      "metadata": {
        "id": "EXTBQPTmH-_g",
        "colab_type": "code",
        "colab": {}
      },
      "cell_type": "code",
      "source": [
        "import numpy as np\n",
        "import pandas as pd\n",
        "from pandas import Series, DataFrame\n",
        "from numpy.random import randn"
      ],
      "execution_count": 0,
      "outputs": []
    },
    {
      "metadata": {
        "id": "NMKLH3I1IKu8",
        "colab_type": "code",
        "colab": {}
      },
      "cell_type": "code",
      "source": [
        "ser1 = Series([1,2,3,4], index=['A','B','C','D'])"
      ],
      "execution_count": 0,
      "outputs": []
    },
    {
      "metadata": {
        "id": "u3lOJJYyIQka",
        "colab_type": "code",
        "colab": {
          "base_uri": "https://localhost:8080/",
          "height": 101
        },
        "outputId": "a85340e8-9d1c-4c27-996f-0c2ef2bfa4de"
      },
      "cell_type": "code",
      "source": [
        "ser1"
      ],
      "execution_count": 3,
      "outputs": [
        {
          "output_type": "execute_result",
          "data": {
            "text/plain": [
              "A    1\n",
              "B    2\n",
              "C    3\n",
              "D    4\n",
              "dtype: int64"
            ]
          },
          "metadata": {
            "tags": []
          },
          "execution_count": 3
        }
      ]
    },
    {
      "metadata": {
        "id": "Y5bcLCtKIR8R",
        "colab_type": "code",
        "colab": {}
      },
      "cell_type": "code",
      "source": [
        "ser2 = ser1.reindex(['A','B','C','D','E','F'])"
      ],
      "execution_count": 0,
      "outputs": []
    },
    {
      "metadata": {
        "id": "zfyyEd26IZLA",
        "colab_type": "code",
        "colab": {
          "base_uri": "https://localhost:8080/",
          "height": 135
        },
        "outputId": "548febe3-605a-4de5-ca4d-171449b6c492"
      },
      "cell_type": "code",
      "source": [
        "ser2"
      ],
      "execution_count": 5,
      "outputs": [
        {
          "output_type": "execute_result",
          "data": {
            "text/plain": [
              "A    1.0\n",
              "B    2.0\n",
              "C    3.0\n",
              "D    4.0\n",
              "E    NaN\n",
              "F    NaN\n",
              "dtype: float64"
            ]
          },
          "metadata": {
            "tags": []
          },
          "execution_count": 5
        }
      ]
    },
    {
      "metadata": {
        "id": "uILfSIzUIaB4",
        "colab_type": "code",
        "colab": {
          "base_uri": "https://localhost:8080/",
          "height": 152
        },
        "outputId": "aa07f8b6-baea-426d-ff86-3cc1d44ff2b8"
      },
      "cell_type": "code",
      "source": [
        "ser2.reindex(['A','B','C','D','E','F','G'], fill_value=0)"
      ],
      "execution_count": 6,
      "outputs": [
        {
          "output_type": "execute_result",
          "data": {
            "text/plain": [
              "A    1.0\n",
              "B    2.0\n",
              "C    3.0\n",
              "D    4.0\n",
              "E    NaN\n",
              "F    NaN\n",
              "G    0.0\n",
              "dtype: float64"
            ]
          },
          "metadata": {
            "tags": []
          },
          "execution_count": 6
        }
      ]
    },
    {
      "metadata": {
        "id": "NJkWuBJuIl9I",
        "colab_type": "code",
        "colab": {}
      },
      "cell_type": "code",
      "source": [
        "ser3 = Series(['USA','Mexico','Canada'], index=[0,5,10])"
      ],
      "execution_count": 0,
      "outputs": []
    },
    {
      "metadata": {
        "id": "M9i1BDqdI0YA",
        "colab_type": "code",
        "colab": {
          "base_uri": "https://localhost:8080/",
          "height": 85
        },
        "outputId": "d48895c6-1525-4236-ae4c-bc118d29f0b0"
      },
      "cell_type": "code",
      "source": [
        "ser3"
      ],
      "execution_count": 8,
      "outputs": [
        {
          "output_type": "execute_result",
          "data": {
            "text/plain": [
              "0        USA\n",
              "5     Mexico\n",
              "10    Canada\n",
              "dtype: object"
            ]
          },
          "metadata": {
            "tags": []
          },
          "execution_count": 8
        }
      ]
    },
    {
      "metadata": {
        "id": "0EykoqfUI1GZ",
        "colab_type": "code",
        "colab": {
          "base_uri": "https://localhost:8080/",
          "height": 288
        },
        "outputId": "1b378a03-0c75-44fd-bca8-c38664b2591a"
      },
      "cell_type": "code",
      "source": [
        "ser3.reindex(range(15), method='ffill')"
      ],
      "execution_count": 9,
      "outputs": [
        {
          "output_type": "execute_result",
          "data": {
            "text/plain": [
              "0        USA\n",
              "1        USA\n",
              "2        USA\n",
              "3        USA\n",
              "4        USA\n",
              "5     Mexico\n",
              "6     Mexico\n",
              "7     Mexico\n",
              "8     Mexico\n",
              "9     Mexico\n",
              "10    Canada\n",
              "11    Canada\n",
              "12    Canada\n",
              "13    Canada\n",
              "14    Canada\n",
              "dtype: object"
            ]
          },
          "metadata": {
            "tags": []
          },
          "execution_count": 9
        }
      ]
    },
    {
      "metadata": {
        "id": "6peur9kpI-9d",
        "colab_type": "code",
        "colab": {}
      },
      "cell_type": "code",
      "source": [
        "dframe = DataFrame(randn(25).reshape((5,5)), index=['A','B','D','E','F'], columns=['col1','col2','col3','col4','col5'])"
      ],
      "execution_count": 0,
      "outputs": []
    },
    {
      "metadata": {
        "id": "vyTsKpySJk9G",
        "colab_type": "code",
        "colab": {
          "base_uri": "https://localhost:8080/",
          "height": 202
        },
        "outputId": "cfe8f9c9-f4ee-4795-f183-dbc58a25366f"
      },
      "cell_type": "code",
      "source": [
        "dframe"
      ],
      "execution_count": 11,
      "outputs": [
        {
          "output_type": "execute_result",
          "data": {
            "text/html": [
              "<div>\n",
              "<style scoped>\n",
              "    .dataframe tbody tr th:only-of-type {\n",
              "        vertical-align: middle;\n",
              "    }\n",
              "\n",
              "    .dataframe tbody tr th {\n",
              "        vertical-align: top;\n",
              "    }\n",
              "\n",
              "    .dataframe thead th {\n",
              "        text-align: right;\n",
              "    }\n",
              "</style>\n",
              "<table border=\"1\" class=\"dataframe\">\n",
              "  <thead>\n",
              "    <tr style=\"text-align: right;\">\n",
              "      <th></th>\n",
              "      <th>col1</th>\n",
              "      <th>col2</th>\n",
              "      <th>col3</th>\n",
              "      <th>col4</th>\n",
              "      <th>col5</th>\n",
              "    </tr>\n",
              "  </thead>\n",
              "  <tbody>\n",
              "    <tr>\n",
              "      <th>A</th>\n",
              "      <td>-0.322382</td>\n",
              "      <td>0.359800</td>\n",
              "      <td>0.544265</td>\n",
              "      <td>-0.271984</td>\n",
              "      <td>1.120155</td>\n",
              "    </tr>\n",
              "    <tr>\n",
              "      <th>B</th>\n",
              "      <td>0.427569</td>\n",
              "      <td>0.314100</td>\n",
              "      <td>-0.376199</td>\n",
              "      <td>1.059864</td>\n",
              "      <td>-0.519376</td>\n",
              "    </tr>\n",
              "    <tr>\n",
              "      <th>D</th>\n",
              "      <td>1.061541</td>\n",
              "      <td>1.935640</td>\n",
              "      <td>0.256240</td>\n",
              "      <td>1.031335</td>\n",
              "      <td>-0.221282</td>\n",
              "    </tr>\n",
              "    <tr>\n",
              "      <th>E</th>\n",
              "      <td>1.724326</td>\n",
              "      <td>-0.483382</td>\n",
              "      <td>0.924854</td>\n",
              "      <td>1.738381</td>\n",
              "      <td>0.456181</td>\n",
              "    </tr>\n",
              "    <tr>\n",
              "      <th>F</th>\n",
              "      <td>0.901760</td>\n",
              "      <td>0.709279</td>\n",
              "      <td>0.548072</td>\n",
              "      <td>-0.357766</td>\n",
              "      <td>-0.117355</td>\n",
              "    </tr>\n",
              "  </tbody>\n",
              "</table>\n",
              "</div>"
            ],
            "text/plain": [
              "       col1      col2      col3      col4      col5\n",
              "A -0.322382  0.359800  0.544265 -0.271984  1.120155\n",
              "B  0.427569  0.314100 -0.376199  1.059864 -0.519376\n",
              "D  1.061541  1.935640  0.256240  1.031335 -0.221282\n",
              "E  1.724326 -0.483382  0.924854  1.738381  0.456181\n",
              "F  0.901760  0.709279  0.548072 -0.357766 -0.117355"
            ]
          },
          "metadata": {
            "tags": []
          },
          "execution_count": 11
        }
      ]
    },
    {
      "metadata": {
        "id": "gI6hdNcdJmTa",
        "colab_type": "code",
        "colab": {}
      },
      "cell_type": "code",
      "source": [
        "new_index = ['A','B','C','D','E','F']\n",
        "dframe2 = dframe.reindex(new_index)"
      ],
      "execution_count": 0,
      "outputs": []
    },
    {
      "metadata": {
        "id": "aTXDM7q4JtyY",
        "colab_type": "code",
        "colab": {
          "base_uri": "https://localhost:8080/",
          "height": 233
        },
        "outputId": "7db207cb-a9e0-4eeb-9802-80470c7f8a51"
      },
      "cell_type": "code",
      "source": [
        "dframe2"
      ],
      "execution_count": 14,
      "outputs": [
        {
          "output_type": "execute_result",
          "data": {
            "text/html": [
              "<div>\n",
              "<style scoped>\n",
              "    .dataframe tbody tr th:only-of-type {\n",
              "        vertical-align: middle;\n",
              "    }\n",
              "\n",
              "    .dataframe tbody tr th {\n",
              "        vertical-align: top;\n",
              "    }\n",
              "\n",
              "    .dataframe thead th {\n",
              "        text-align: right;\n",
              "    }\n",
              "</style>\n",
              "<table border=\"1\" class=\"dataframe\">\n",
              "  <thead>\n",
              "    <tr style=\"text-align: right;\">\n",
              "      <th></th>\n",
              "      <th>col1</th>\n",
              "      <th>col2</th>\n",
              "      <th>col3</th>\n",
              "      <th>col4</th>\n",
              "      <th>col5</th>\n",
              "    </tr>\n",
              "  </thead>\n",
              "  <tbody>\n",
              "    <tr>\n",
              "      <th>A</th>\n",
              "      <td>-0.322382</td>\n",
              "      <td>0.359800</td>\n",
              "      <td>0.544265</td>\n",
              "      <td>-0.271984</td>\n",
              "      <td>1.120155</td>\n",
              "    </tr>\n",
              "    <tr>\n",
              "      <th>B</th>\n",
              "      <td>0.427569</td>\n",
              "      <td>0.314100</td>\n",
              "      <td>-0.376199</td>\n",
              "      <td>1.059864</td>\n",
              "      <td>-0.519376</td>\n",
              "    </tr>\n",
              "    <tr>\n",
              "      <th>C</th>\n",
              "      <td>NaN</td>\n",
              "      <td>NaN</td>\n",
              "      <td>NaN</td>\n",
              "      <td>NaN</td>\n",
              "      <td>NaN</td>\n",
              "    </tr>\n",
              "    <tr>\n",
              "      <th>D</th>\n",
              "      <td>1.061541</td>\n",
              "      <td>1.935640</td>\n",
              "      <td>0.256240</td>\n",
              "      <td>1.031335</td>\n",
              "      <td>-0.221282</td>\n",
              "    </tr>\n",
              "    <tr>\n",
              "      <th>E</th>\n",
              "      <td>1.724326</td>\n",
              "      <td>-0.483382</td>\n",
              "      <td>0.924854</td>\n",
              "      <td>1.738381</td>\n",
              "      <td>0.456181</td>\n",
              "    </tr>\n",
              "    <tr>\n",
              "      <th>F</th>\n",
              "      <td>0.901760</td>\n",
              "      <td>0.709279</td>\n",
              "      <td>0.548072</td>\n",
              "      <td>-0.357766</td>\n",
              "      <td>-0.117355</td>\n",
              "    </tr>\n",
              "  </tbody>\n",
              "</table>\n",
              "</div>"
            ],
            "text/plain": [
              "       col1      col2      col3      col4      col5\n",
              "A -0.322382  0.359800  0.544265 -0.271984  1.120155\n",
              "B  0.427569  0.314100 -0.376199  1.059864 -0.519376\n",
              "C       NaN       NaN       NaN       NaN       NaN\n",
              "D  1.061541  1.935640  0.256240  1.031335 -0.221282\n",
              "E  1.724326 -0.483382  0.924854  1.738381  0.456181\n",
              "F  0.901760  0.709279  0.548072 -0.357766 -0.117355"
            ]
          },
          "metadata": {
            "tags": []
          },
          "execution_count": 14
        }
      ]
    },
    {
      "metadata": {
        "id": "e-LSbzpsJ1SG",
        "colab_type": "code",
        "colab": {
          "base_uri": "https://localhost:8080/",
          "height": 233
        },
        "outputId": "a264f43d-6fb2-401a-f687-10123f075e62"
      },
      "cell_type": "code",
      "source": [
        "new_columns = ['col1','col2','col3','col4','col5','col6']\n",
        "dframe2.reindex(columns=new_columns)"
      ],
      "execution_count": 15,
      "outputs": [
        {
          "output_type": "execute_result",
          "data": {
            "text/html": [
              "<div>\n",
              "<style scoped>\n",
              "    .dataframe tbody tr th:only-of-type {\n",
              "        vertical-align: middle;\n",
              "    }\n",
              "\n",
              "    .dataframe tbody tr th {\n",
              "        vertical-align: top;\n",
              "    }\n",
              "\n",
              "    .dataframe thead th {\n",
              "        text-align: right;\n",
              "    }\n",
              "</style>\n",
              "<table border=\"1\" class=\"dataframe\">\n",
              "  <thead>\n",
              "    <tr style=\"text-align: right;\">\n",
              "      <th></th>\n",
              "      <th>col1</th>\n",
              "      <th>col2</th>\n",
              "      <th>col3</th>\n",
              "      <th>col4</th>\n",
              "      <th>col5</th>\n",
              "      <th>col6</th>\n",
              "    </tr>\n",
              "  </thead>\n",
              "  <tbody>\n",
              "    <tr>\n",
              "      <th>A</th>\n",
              "      <td>-0.322382</td>\n",
              "      <td>0.359800</td>\n",
              "      <td>0.544265</td>\n",
              "      <td>-0.271984</td>\n",
              "      <td>1.120155</td>\n",
              "      <td>NaN</td>\n",
              "    </tr>\n",
              "    <tr>\n",
              "      <th>B</th>\n",
              "      <td>0.427569</td>\n",
              "      <td>0.314100</td>\n",
              "      <td>-0.376199</td>\n",
              "      <td>1.059864</td>\n",
              "      <td>-0.519376</td>\n",
              "      <td>NaN</td>\n",
              "    </tr>\n",
              "    <tr>\n",
              "      <th>C</th>\n",
              "      <td>NaN</td>\n",
              "      <td>NaN</td>\n",
              "      <td>NaN</td>\n",
              "      <td>NaN</td>\n",
              "      <td>NaN</td>\n",
              "      <td>NaN</td>\n",
              "    </tr>\n",
              "    <tr>\n",
              "      <th>D</th>\n",
              "      <td>1.061541</td>\n",
              "      <td>1.935640</td>\n",
              "      <td>0.256240</td>\n",
              "      <td>1.031335</td>\n",
              "      <td>-0.221282</td>\n",
              "      <td>NaN</td>\n",
              "    </tr>\n",
              "    <tr>\n",
              "      <th>E</th>\n",
              "      <td>1.724326</td>\n",
              "      <td>-0.483382</td>\n",
              "      <td>0.924854</td>\n",
              "      <td>1.738381</td>\n",
              "      <td>0.456181</td>\n",
              "      <td>NaN</td>\n",
              "    </tr>\n",
              "    <tr>\n",
              "      <th>F</th>\n",
              "      <td>0.901760</td>\n",
              "      <td>0.709279</td>\n",
              "      <td>0.548072</td>\n",
              "      <td>-0.357766</td>\n",
              "      <td>-0.117355</td>\n",
              "      <td>NaN</td>\n",
              "    </tr>\n",
              "  </tbody>\n",
              "</table>\n",
              "</div>"
            ],
            "text/plain": [
              "       col1      col2      col3      col4      col5  col6\n",
              "A -0.322382  0.359800  0.544265 -0.271984  1.120155   NaN\n",
              "B  0.427569  0.314100 -0.376199  1.059864 -0.519376   NaN\n",
              "C       NaN       NaN       NaN       NaN       NaN   NaN\n",
              "D  1.061541  1.935640  0.256240  1.031335 -0.221282   NaN\n",
              "E  1.724326 -0.483382  0.924854  1.738381  0.456181   NaN\n",
              "F  0.901760  0.709279  0.548072 -0.357766 -0.117355   NaN"
            ]
          },
          "metadata": {
            "tags": []
          },
          "execution_count": 15
        }
      ]
    },
    {
      "metadata": {
        "id": "lWj0hueyKFoa",
        "colab_type": "code",
        "colab": {
          "base_uri": "https://localhost:8080/",
          "height": 202
        },
        "outputId": "a8180969-a10c-4c84-900e-33ba4ca9fbb9"
      },
      "cell_type": "code",
      "source": [
        "dframe"
      ],
      "execution_count": 16,
      "outputs": [
        {
          "output_type": "execute_result",
          "data": {
            "text/html": [
              "<div>\n",
              "<style scoped>\n",
              "    .dataframe tbody tr th:only-of-type {\n",
              "        vertical-align: middle;\n",
              "    }\n",
              "\n",
              "    .dataframe tbody tr th {\n",
              "        vertical-align: top;\n",
              "    }\n",
              "\n",
              "    .dataframe thead th {\n",
              "        text-align: right;\n",
              "    }\n",
              "</style>\n",
              "<table border=\"1\" class=\"dataframe\">\n",
              "  <thead>\n",
              "    <tr style=\"text-align: right;\">\n",
              "      <th></th>\n",
              "      <th>col1</th>\n",
              "      <th>col2</th>\n",
              "      <th>col3</th>\n",
              "      <th>col4</th>\n",
              "      <th>col5</th>\n",
              "    </tr>\n",
              "  </thead>\n",
              "  <tbody>\n",
              "    <tr>\n",
              "      <th>A</th>\n",
              "      <td>-0.322382</td>\n",
              "      <td>0.359800</td>\n",
              "      <td>0.544265</td>\n",
              "      <td>-0.271984</td>\n",
              "      <td>1.120155</td>\n",
              "    </tr>\n",
              "    <tr>\n",
              "      <th>B</th>\n",
              "      <td>0.427569</td>\n",
              "      <td>0.314100</td>\n",
              "      <td>-0.376199</td>\n",
              "      <td>1.059864</td>\n",
              "      <td>-0.519376</td>\n",
              "    </tr>\n",
              "    <tr>\n",
              "      <th>D</th>\n",
              "      <td>1.061541</td>\n",
              "      <td>1.935640</td>\n",
              "      <td>0.256240</td>\n",
              "      <td>1.031335</td>\n",
              "      <td>-0.221282</td>\n",
              "    </tr>\n",
              "    <tr>\n",
              "      <th>E</th>\n",
              "      <td>1.724326</td>\n",
              "      <td>-0.483382</td>\n",
              "      <td>0.924854</td>\n",
              "      <td>1.738381</td>\n",
              "      <td>0.456181</td>\n",
              "    </tr>\n",
              "    <tr>\n",
              "      <th>F</th>\n",
              "      <td>0.901760</td>\n",
              "      <td>0.709279</td>\n",
              "      <td>0.548072</td>\n",
              "      <td>-0.357766</td>\n",
              "      <td>-0.117355</td>\n",
              "    </tr>\n",
              "  </tbody>\n",
              "</table>\n",
              "</div>"
            ],
            "text/plain": [
              "       col1      col2      col3      col4      col5\n",
              "A -0.322382  0.359800  0.544265 -0.271984  1.120155\n",
              "B  0.427569  0.314100 -0.376199  1.059864 -0.519376\n",
              "D  1.061541  1.935640  0.256240  1.031335 -0.221282\n",
              "E  1.724326 -0.483382  0.924854  1.738381  0.456181\n",
              "F  0.901760  0.709279  0.548072 -0.357766 -0.117355"
            ]
          },
          "metadata": {
            "tags": []
          },
          "execution_count": 16
        }
      ]
    },
    {
      "metadata": {
        "id": "Pz8BqNT6KM-k",
        "colab_type": "code",
        "colab": {
          "base_uri": "https://localhost:8080/",
          "height": 368
        },
        "outputId": "a18ba41f-d479-4240-8d67-f4fbf601bb1a"
      },
      "cell_type": "code",
      "source": [
        "dframe.ix[new_index, new_columns]"
      ],
      "execution_count": 17,
      "outputs": [
        {
          "output_type": "stream",
          "text": [
            "/usr/local/lib/python3.6/dist-packages/ipykernel_launcher.py:1: DeprecationWarning: \n",
            ".ix is deprecated. Please use\n",
            ".loc for label based indexing or\n",
            ".iloc for positional indexing\n",
            "\n",
            "See the documentation here:\n",
            "http://pandas.pydata.org/pandas-docs/stable/indexing.html#ix-indexer-is-deprecated\n",
            "  \"\"\"Entry point for launching an IPython kernel.\n"
          ],
          "name": "stderr"
        },
        {
          "output_type": "execute_result",
          "data": {
            "text/html": [
              "<div>\n",
              "<style scoped>\n",
              "    .dataframe tbody tr th:only-of-type {\n",
              "        vertical-align: middle;\n",
              "    }\n",
              "\n",
              "    .dataframe tbody tr th {\n",
              "        vertical-align: top;\n",
              "    }\n",
              "\n",
              "    .dataframe thead th {\n",
              "        text-align: right;\n",
              "    }\n",
              "</style>\n",
              "<table border=\"1\" class=\"dataframe\">\n",
              "  <thead>\n",
              "    <tr style=\"text-align: right;\">\n",
              "      <th></th>\n",
              "      <th>col1</th>\n",
              "      <th>col2</th>\n",
              "      <th>col3</th>\n",
              "      <th>col4</th>\n",
              "      <th>col5</th>\n",
              "      <th>col6</th>\n",
              "    </tr>\n",
              "  </thead>\n",
              "  <tbody>\n",
              "    <tr>\n",
              "      <th>A</th>\n",
              "      <td>-0.322382</td>\n",
              "      <td>0.359800</td>\n",
              "      <td>0.544265</td>\n",
              "      <td>-0.271984</td>\n",
              "      <td>1.120155</td>\n",
              "      <td>NaN</td>\n",
              "    </tr>\n",
              "    <tr>\n",
              "      <th>B</th>\n",
              "      <td>0.427569</td>\n",
              "      <td>0.314100</td>\n",
              "      <td>-0.376199</td>\n",
              "      <td>1.059864</td>\n",
              "      <td>-0.519376</td>\n",
              "      <td>NaN</td>\n",
              "    </tr>\n",
              "    <tr>\n",
              "      <th>C</th>\n",
              "      <td>NaN</td>\n",
              "      <td>NaN</td>\n",
              "      <td>NaN</td>\n",
              "      <td>NaN</td>\n",
              "      <td>NaN</td>\n",
              "      <td>NaN</td>\n",
              "    </tr>\n",
              "    <tr>\n",
              "      <th>D</th>\n",
              "      <td>1.061541</td>\n",
              "      <td>1.935640</td>\n",
              "      <td>0.256240</td>\n",
              "      <td>1.031335</td>\n",
              "      <td>-0.221282</td>\n",
              "      <td>NaN</td>\n",
              "    </tr>\n",
              "    <tr>\n",
              "      <th>E</th>\n",
              "      <td>1.724326</td>\n",
              "      <td>-0.483382</td>\n",
              "      <td>0.924854</td>\n",
              "      <td>1.738381</td>\n",
              "      <td>0.456181</td>\n",
              "      <td>NaN</td>\n",
              "    </tr>\n",
              "    <tr>\n",
              "      <th>F</th>\n",
              "      <td>0.901760</td>\n",
              "      <td>0.709279</td>\n",
              "      <td>0.548072</td>\n",
              "      <td>-0.357766</td>\n",
              "      <td>-0.117355</td>\n",
              "      <td>NaN</td>\n",
              "    </tr>\n",
              "  </tbody>\n",
              "</table>\n",
              "</div>"
            ],
            "text/plain": [
              "       col1      col2      col3      col4      col5  col6\n",
              "A -0.322382  0.359800  0.544265 -0.271984  1.120155   NaN\n",
              "B  0.427569  0.314100 -0.376199  1.059864 -0.519376   NaN\n",
              "C       NaN       NaN       NaN       NaN       NaN   NaN\n",
              "D  1.061541  1.935640  0.256240  1.031335 -0.221282   NaN\n",
              "E  1.724326 -0.483382  0.924854  1.738381  0.456181   NaN\n",
              "F  0.901760  0.709279  0.548072 -0.357766 -0.117355   NaN"
            ]
          },
          "metadata": {
            "tags": []
          },
          "execution_count": 17
        }
      ]
    },
    {
      "metadata": {
        "id": "1f-a9YNuKUSF",
        "colab_type": "code",
        "colab": {}
      },
      "cell_type": "code",
      "source": [
        ""
      ],
      "execution_count": 0,
      "outputs": []
    }
  ]
}