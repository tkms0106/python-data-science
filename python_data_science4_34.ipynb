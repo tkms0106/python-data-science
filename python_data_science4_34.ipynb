{
  "nbformat": 4,
  "nbformat_minor": 0,
  "metadata": {
    "colab": {
      "name": "python-data-science4-34.ipynb",
      "version": "0.3.2",
      "provenance": [],
      "include_colab_link": true
    },
    "kernelspec": {
      "name": "python3",
      "display_name": "Python 3"
    }
  },
  "cells": [
    {
      "cell_type": "markdown",
      "metadata": {
        "id": "view-in-github",
        "colab_type": "text"
      },
      "source": [
        "[View in Colaboratory](https://colab.research.google.com/github/tkms0106/python-data-science/blob/master/python_data_science4_34.ipynb)"
      ]
    },
    {
      "metadata": {
        "id": "JWHw2IXWdTEh",
        "colab_type": "code",
        "colab": {}
      },
      "cell_type": "code",
      "source": [
        "import numpy as np \n",
        "from pandas import DataFrame"
      ],
      "execution_count": 0,
      "outputs": []
    },
    {
      "metadata": {
        "id": "shjTdD5odfWh",
        "colab_type": "code",
        "colab": {}
      },
      "cell_type": "code",
      "source": [
        "import pandas.util.testing as tm\n",
        "tm.N = 3\n",
        "\n",
        "def unpivot(frame):\n",
        "  N, K = frame.shape\n",
        "  data = {'value': frame.values.ravel('F'),\n",
        "         'variable': np.asarray(frame.columns).repeat(N),\n",
        "         'date': np.tile(np.asarray(frame.index), K)}\n",
        "  return DataFrame(data, columns=['date','variable','value'])\n",
        "\n",
        "dframe = unpivot(tm.makeTimeDataFrame())"
      ],
      "execution_count": 0,
      "outputs": []
    },
    {
      "metadata": {
        "id": "XykSLSXWeCK_",
        "colab_type": "code",
        "colab": {
          "base_uri": "https://localhost:8080/",
          "height": 418
        },
        "outputId": "b31342ad-9a3b-4390-b7b9-455759098b12"
      },
      "cell_type": "code",
      "source": [
        "dframe"
      ],
      "execution_count": 3,
      "outputs": [
        {
          "output_type": "execute_result",
          "data": {
            "text/html": [
              "<div>\n",
              "<style scoped>\n",
              "    .dataframe tbody tr th:only-of-type {\n",
              "        vertical-align: middle;\n",
              "    }\n",
              "\n",
              "    .dataframe tbody tr th {\n",
              "        vertical-align: top;\n",
              "    }\n",
              "\n",
              "    .dataframe thead th {\n",
              "        text-align: right;\n",
              "    }\n",
              "</style>\n",
              "<table border=\"1\" class=\"dataframe\">\n",
              "  <thead>\n",
              "    <tr style=\"text-align: right;\">\n",
              "      <th></th>\n",
              "      <th>date</th>\n",
              "      <th>variable</th>\n",
              "      <th>value</th>\n",
              "    </tr>\n",
              "  </thead>\n",
              "  <tbody>\n",
              "    <tr>\n",
              "      <th>0</th>\n",
              "      <td>2000-01-03</td>\n",
              "      <td>A</td>\n",
              "      <td>-0.887176</td>\n",
              "    </tr>\n",
              "    <tr>\n",
              "      <th>1</th>\n",
              "      <td>2000-01-04</td>\n",
              "      <td>A</td>\n",
              "      <td>0.571800</td>\n",
              "    </tr>\n",
              "    <tr>\n",
              "      <th>2</th>\n",
              "      <td>2000-01-05</td>\n",
              "      <td>A</td>\n",
              "      <td>-0.268527</td>\n",
              "    </tr>\n",
              "    <tr>\n",
              "      <th>3</th>\n",
              "      <td>2000-01-03</td>\n",
              "      <td>B</td>\n",
              "      <td>-0.527909</td>\n",
              "    </tr>\n",
              "    <tr>\n",
              "      <th>4</th>\n",
              "      <td>2000-01-04</td>\n",
              "      <td>B</td>\n",
              "      <td>-0.105728</td>\n",
              "    </tr>\n",
              "    <tr>\n",
              "      <th>5</th>\n",
              "      <td>2000-01-05</td>\n",
              "      <td>B</td>\n",
              "      <td>-0.584052</td>\n",
              "    </tr>\n",
              "    <tr>\n",
              "      <th>6</th>\n",
              "      <td>2000-01-03</td>\n",
              "      <td>C</td>\n",
              "      <td>1.566639</td>\n",
              "    </tr>\n",
              "    <tr>\n",
              "      <th>7</th>\n",
              "      <td>2000-01-04</td>\n",
              "      <td>C</td>\n",
              "      <td>-1.100171</td>\n",
              "    </tr>\n",
              "    <tr>\n",
              "      <th>8</th>\n",
              "      <td>2000-01-05</td>\n",
              "      <td>C</td>\n",
              "      <td>0.146531</td>\n",
              "    </tr>\n",
              "    <tr>\n",
              "      <th>9</th>\n",
              "      <td>2000-01-03</td>\n",
              "      <td>D</td>\n",
              "      <td>0.225770</td>\n",
              "    </tr>\n",
              "    <tr>\n",
              "      <th>10</th>\n",
              "      <td>2000-01-04</td>\n",
              "      <td>D</td>\n",
              "      <td>0.349660</td>\n",
              "    </tr>\n",
              "    <tr>\n",
              "      <th>11</th>\n",
              "      <td>2000-01-05</td>\n",
              "      <td>D</td>\n",
              "      <td>-0.873252</td>\n",
              "    </tr>\n",
              "  </tbody>\n",
              "</table>\n",
              "</div>"
            ],
            "text/plain": [
              "         date variable     value\n",
              "0  2000-01-03        A -0.887176\n",
              "1  2000-01-04        A  0.571800\n",
              "2  2000-01-05        A -0.268527\n",
              "3  2000-01-03        B -0.527909\n",
              "4  2000-01-04        B -0.105728\n",
              "5  2000-01-05        B -0.584052\n",
              "6  2000-01-03        C  1.566639\n",
              "7  2000-01-04        C -1.100171\n",
              "8  2000-01-05        C  0.146531\n",
              "9  2000-01-03        D  0.225770\n",
              "10 2000-01-04        D  0.349660\n",
              "11 2000-01-05        D -0.873252"
            ]
          },
          "metadata": {
            "tags": []
          },
          "execution_count": 3
        }
      ]
    },
    {
      "metadata": {
        "id": "ueJ06JvHeLiL",
        "colab_type": "code",
        "colab": {}
      },
      "cell_type": "code",
      "source": [
        "dframe_piv = dframe.pivot('date','variable','value')"
      ],
      "execution_count": 0,
      "outputs": []
    },
    {
      "metadata": {
        "id": "WOZUydHEepQ-",
        "colab_type": "code",
        "colab": {
          "base_uri": "https://localhost:8080/",
          "height": 171
        },
        "outputId": "999c4fd3-88e1-4c89-cd58-7bbea74c06c5"
      },
      "cell_type": "code",
      "source": [
        "dframe_piv"
      ],
      "execution_count": 5,
      "outputs": [
        {
          "output_type": "execute_result",
          "data": {
            "text/html": [
              "<div>\n",
              "<style scoped>\n",
              "    .dataframe tbody tr th:only-of-type {\n",
              "        vertical-align: middle;\n",
              "    }\n",
              "\n",
              "    .dataframe tbody tr th {\n",
              "        vertical-align: top;\n",
              "    }\n",
              "\n",
              "    .dataframe thead th {\n",
              "        text-align: right;\n",
              "    }\n",
              "</style>\n",
              "<table border=\"1\" class=\"dataframe\">\n",
              "  <thead>\n",
              "    <tr style=\"text-align: right;\">\n",
              "      <th>variable</th>\n",
              "      <th>A</th>\n",
              "      <th>B</th>\n",
              "      <th>C</th>\n",
              "      <th>D</th>\n",
              "    </tr>\n",
              "    <tr>\n",
              "      <th>date</th>\n",
              "      <th></th>\n",
              "      <th></th>\n",
              "      <th></th>\n",
              "      <th></th>\n",
              "    </tr>\n",
              "  </thead>\n",
              "  <tbody>\n",
              "    <tr>\n",
              "      <th>2000-01-03</th>\n",
              "      <td>-0.887176</td>\n",
              "      <td>-0.527909</td>\n",
              "      <td>1.566639</td>\n",
              "      <td>0.225770</td>\n",
              "    </tr>\n",
              "    <tr>\n",
              "      <th>2000-01-04</th>\n",
              "      <td>0.571800</td>\n",
              "      <td>-0.105728</td>\n",
              "      <td>-1.100171</td>\n",
              "      <td>0.349660</td>\n",
              "    </tr>\n",
              "    <tr>\n",
              "      <th>2000-01-05</th>\n",
              "      <td>-0.268527</td>\n",
              "      <td>-0.584052</td>\n",
              "      <td>0.146531</td>\n",
              "      <td>-0.873252</td>\n",
              "    </tr>\n",
              "  </tbody>\n",
              "</table>\n",
              "</div>"
            ],
            "text/plain": [
              "variable           A         B         C         D\n",
              "date                                              \n",
              "2000-01-03 -0.887176 -0.527909  1.566639  0.225770\n",
              "2000-01-04  0.571800 -0.105728 -1.100171  0.349660\n",
              "2000-01-05 -0.268527 -0.584052  0.146531 -0.873252"
            ]
          },
          "metadata": {
            "tags": []
          },
          "execution_count": 5
        }
      ]
    },
    {
      "metadata": {
        "id": "XY4vSYO6esJg",
        "colab_type": "code",
        "colab": {}
      },
      "cell_type": "code",
      "source": [
        ""
      ],
      "execution_count": 0,
      "outputs": []
    }
  ]
}