{
  "nbformat": 4,
  "nbformat_minor": 0,
  "metadata": {
    "colab": {
      "name": "python-data-science4-15.ipynb",
      "version": "0.3.2",
      "provenance": [],
      "include_colab_link": true
    },
    "kernelspec": {
      "name": "python3",
      "display_name": "Python 3"
    }
  },
  "cells": [
    {
      "cell_type": "markdown",
      "metadata": {
        "id": "view-in-github",
        "colab_type": "text"
      },
      "source": [
        "[View in Colaboratory](https://colab.research.google.com/github/tkms0106/python-data-science/blob/master/python_data_science4_15.ipynb)"
      ]
    },
    {
      "metadata": {
        "id": "MPI0wf6F7c3C",
        "colab_type": "code",
        "colab": {}
      },
      "cell_type": "code",
      "source": [
        "import numpy as np\n",
        "import pandas as pd\n",
        "from pandas import Series, DataFrame"
      ],
      "execution_count": 0,
      "outputs": []
    },
    {
      "metadata": {
        "id": "axS4ri9O7nSF",
        "colab_type": "code",
        "colab": {}
      },
      "cell_type": "code",
      "source": [
        "# colaboratoryではクリップボード読み込めないので頑張る\n",
        "# （加えて動画内と学習時点とでWikipediaの情報が少し異なる）\n",
        "nfl_frame = DataFrame( {'Rank': [1, 2, 3, 4, 5, 6],\n",
        "                        'Team': ['Dallas Cowboys', 'Chicago Bears', 'Green Bay Packers', 'Miami Dolphins', 'Baltimore Ravens', 'San Francisco 49ers'],\n",
        "                        'Won': [510, 752, 741, 443, 182, 545],\n",
        "                        'Lost': [378, 563, 561, 345, 143, 444],\n",
        "                        'Tied': [6, 42, 37, 4, 1, 14],\n",
        "                        'Pct.': [0.574, 0.570, 0.567, 0.562, 0.560, 0.550],\n",
        "                        'First Season': [1960, 1920, 1921, 1966, 1996, 1950],\n",
        "                        'Total Games': [894, 1357, 1339, 792, 326, 1003],\n",
        "                        'Conference': ['NFC East', 'NFC North', 'NFC North', 'AFC East', 'AFC North', 'NFC West']\n",
        "                       },\n",
        "    columns=['Rank', 'Team', 'Won', 'Lost', 'Tied', 'Pct.', 'First Season', 'Total Games', 'Conference'])"
      ],
      "execution_count": 0,
      "outputs": []
    },
    {
      "metadata": {
        "id": "5haKF6Fg88Y4",
        "colab_type": "code",
        "colab": {
          "base_uri": "https://localhost:8080/",
          "height": 233
        },
        "outputId": "4b136664-2b32-4165-fa1c-8803b0839e8d"
      },
      "cell_type": "code",
      "source": [
        "nfl_frame"
      ],
      "execution_count": 11,
      "outputs": [
        {
          "output_type": "execute_result",
          "data": {
            "text/html": [
              "<div>\n",
              "<style scoped>\n",
              "    .dataframe tbody tr th:only-of-type {\n",
              "        vertical-align: middle;\n",
              "    }\n",
              "\n",
              "    .dataframe tbody tr th {\n",
              "        vertical-align: top;\n",
              "    }\n",
              "\n",
              "    .dataframe thead th {\n",
              "        text-align: right;\n",
              "    }\n",
              "</style>\n",
              "<table border=\"1\" class=\"dataframe\">\n",
              "  <thead>\n",
              "    <tr style=\"text-align: right;\">\n",
              "      <th></th>\n",
              "      <th>Rank</th>\n",
              "      <th>Team</th>\n",
              "      <th>Won</th>\n",
              "      <th>Lost</th>\n",
              "      <th>Tied</th>\n",
              "      <th>Pct.</th>\n",
              "      <th>First Season</th>\n",
              "      <th>Total Games</th>\n",
              "      <th>Conference</th>\n",
              "    </tr>\n",
              "  </thead>\n",
              "  <tbody>\n",
              "    <tr>\n",
              "      <th>0</th>\n",
              "      <td>1</td>\n",
              "      <td>Dallas Cowboys</td>\n",
              "      <td>510</td>\n",
              "      <td>378</td>\n",
              "      <td>6</td>\n",
              "      <td>0.574</td>\n",
              "      <td>1960</td>\n",
              "      <td>894</td>\n",
              "      <td>NFC East</td>\n",
              "    </tr>\n",
              "    <tr>\n",
              "      <th>1</th>\n",
              "      <td>2</td>\n",
              "      <td>Chicago Bears</td>\n",
              "      <td>752</td>\n",
              "      <td>563</td>\n",
              "      <td>42</td>\n",
              "      <td>0.570</td>\n",
              "      <td>1920</td>\n",
              "      <td>1357</td>\n",
              "      <td>NFC North</td>\n",
              "    </tr>\n",
              "    <tr>\n",
              "      <th>2</th>\n",
              "      <td>3</td>\n",
              "      <td>Green Bay Packers</td>\n",
              "      <td>741</td>\n",
              "      <td>561</td>\n",
              "      <td>37</td>\n",
              "      <td>0.567</td>\n",
              "      <td>1921</td>\n",
              "      <td>1339</td>\n",
              "      <td>NFC North</td>\n",
              "    </tr>\n",
              "    <tr>\n",
              "      <th>3</th>\n",
              "      <td>4</td>\n",
              "      <td>Miami Dolphins</td>\n",
              "      <td>443</td>\n",
              "      <td>345</td>\n",
              "      <td>4</td>\n",
              "      <td>0.562</td>\n",
              "      <td>1966</td>\n",
              "      <td>792</td>\n",
              "      <td>AFC East</td>\n",
              "    </tr>\n",
              "    <tr>\n",
              "      <th>4</th>\n",
              "      <td>5</td>\n",
              "      <td>Baltimore Ravens</td>\n",
              "      <td>182</td>\n",
              "      <td>143</td>\n",
              "      <td>1</td>\n",
              "      <td>0.560</td>\n",
              "      <td>1996</td>\n",
              "      <td>326</td>\n",
              "      <td>AFC North</td>\n",
              "    </tr>\n",
              "    <tr>\n",
              "      <th>5</th>\n",
              "      <td>6</td>\n",
              "      <td>San Francisco 49ers</td>\n",
              "      <td>545</td>\n",
              "      <td>444</td>\n",
              "      <td>14</td>\n",
              "      <td>0.550</td>\n",
              "      <td>1950</td>\n",
              "      <td>1003</td>\n",
              "      <td>NFC West</td>\n",
              "    </tr>\n",
              "  </tbody>\n",
              "</table>\n",
              "</div>"
            ],
            "text/plain": [
              "   Rank                 Team  Won  Lost  Tied   Pct.  First Season  \\\n",
              "0     1       Dallas Cowboys  510   378     6  0.574          1960   \n",
              "1     2        Chicago Bears  752   563    42  0.570          1920   \n",
              "2     3    Green Bay Packers  741   561    37  0.567          1921   \n",
              "3     4       Miami Dolphins  443   345     4  0.562          1966   \n",
              "4     5     Baltimore Ravens  182   143     1  0.560          1996   \n",
              "5     6  San Francisco 49ers  545   444    14  0.550          1950   \n",
              "\n",
              "   Total Games Conference  \n",
              "0          894   NFC East  \n",
              "1         1357  NFC North  \n",
              "2         1339  NFC North  \n",
              "3          792   AFC East  \n",
              "4          326  AFC North  \n",
              "5         1003   NFC West  "
            ]
          },
          "metadata": {
            "tags": []
          },
          "execution_count": 11
        }
      ]
    },
    {
      "metadata": {
        "id": "HVOGo1x9BFro",
        "colab_type": "code",
        "colab": {
          "base_uri": "https://localhost:8080/",
          "height": 68
        },
        "outputId": "54055615-d8f3-4058-ec3c-fb4514a0166e"
      },
      "cell_type": "code",
      "source": [
        "nfl_frame.columns"
      ],
      "execution_count": 12,
      "outputs": [
        {
          "output_type": "execute_result",
          "data": {
            "text/plain": [
              "Index(['Rank', 'Team', 'Won', 'Lost', 'Tied', 'Pct.', 'First Season',\n",
              "       'Total Games', 'Conference'],\n",
              "      dtype='object')"
            ]
          },
          "metadata": {
            "tags": []
          },
          "execution_count": 12
        }
      ]
    },
    {
      "metadata": {
        "id": "LhmD6btOBWjp",
        "colab_type": "code",
        "colab": {
          "base_uri": "https://localhost:8080/",
          "height": 135
        },
        "outputId": "c058abfc-392b-4bf6-fc4a-0b088d71af9d"
      },
      "cell_type": "code",
      "source": [
        "nfl_frame['First Season']"
      ],
      "execution_count": 13,
      "outputs": [
        {
          "output_type": "execute_result",
          "data": {
            "text/plain": [
              "0    1960\n",
              "1    1920\n",
              "2    1921\n",
              "3    1966\n",
              "4    1996\n",
              "5    1950\n",
              "Name: First Season, dtype: int64"
            ]
          },
          "metadata": {
            "tags": []
          },
          "execution_count": 13
        }
      ]
    },
    {
      "metadata": {
        "id": "AFeuzQp3BagX",
        "colab_type": "code",
        "colab": {
          "base_uri": "https://localhost:8080/",
          "height": 135
        },
        "outputId": "7c9b272e-b788-4c03-e66b-d7a6413b38bb"
      },
      "cell_type": "code",
      "source": [
        "nfl_frame.Team"
      ],
      "execution_count": 14,
      "outputs": [
        {
          "output_type": "execute_result",
          "data": {
            "text/plain": [
              "0         Dallas Cowboys\n",
              "1          Chicago Bears\n",
              "2      Green Bay Packers\n",
              "3         Miami Dolphins\n",
              "4       Baltimore Ravens\n",
              "5    San Francisco 49ers\n",
              "Name: Team, dtype: object"
            ]
          },
          "metadata": {
            "tags": []
          },
          "execution_count": 14
        }
      ]
    },
    {
      "metadata": {
        "id": "kDp9LHdbBj-p",
        "colab_type": "code",
        "colab": {
          "base_uri": "https://localhost:8080/",
          "height": 233
        },
        "outputId": "447f62cf-934e-4198-c560-ab29321296cf"
      },
      "cell_type": "code",
      "source": [
        "nfl_frame[['Team', 'First Season']]"
      ],
      "execution_count": 15,
      "outputs": [
        {
          "output_type": "execute_result",
          "data": {
            "text/html": [
              "<div>\n",
              "<style scoped>\n",
              "    .dataframe tbody tr th:only-of-type {\n",
              "        vertical-align: middle;\n",
              "    }\n",
              "\n",
              "    .dataframe tbody tr th {\n",
              "        vertical-align: top;\n",
              "    }\n",
              "\n",
              "    .dataframe thead th {\n",
              "        text-align: right;\n",
              "    }\n",
              "</style>\n",
              "<table border=\"1\" class=\"dataframe\">\n",
              "  <thead>\n",
              "    <tr style=\"text-align: right;\">\n",
              "      <th></th>\n",
              "      <th>Team</th>\n",
              "      <th>First Season</th>\n",
              "    </tr>\n",
              "  </thead>\n",
              "  <tbody>\n",
              "    <tr>\n",
              "      <th>0</th>\n",
              "      <td>Dallas Cowboys</td>\n",
              "      <td>1960</td>\n",
              "    </tr>\n",
              "    <tr>\n",
              "      <th>1</th>\n",
              "      <td>Chicago Bears</td>\n",
              "      <td>1920</td>\n",
              "    </tr>\n",
              "    <tr>\n",
              "      <th>2</th>\n",
              "      <td>Green Bay Packers</td>\n",
              "      <td>1921</td>\n",
              "    </tr>\n",
              "    <tr>\n",
              "      <th>3</th>\n",
              "      <td>Miami Dolphins</td>\n",
              "      <td>1966</td>\n",
              "    </tr>\n",
              "    <tr>\n",
              "      <th>4</th>\n",
              "      <td>Baltimore Ravens</td>\n",
              "      <td>1996</td>\n",
              "    </tr>\n",
              "    <tr>\n",
              "      <th>5</th>\n",
              "      <td>San Francisco 49ers</td>\n",
              "      <td>1950</td>\n",
              "    </tr>\n",
              "  </tbody>\n",
              "</table>\n",
              "</div>"
            ],
            "text/plain": [
              "                  Team  First Season\n",
              "0       Dallas Cowboys          1960\n",
              "1        Chicago Bears          1920\n",
              "2    Green Bay Packers          1921\n",
              "3       Miami Dolphins          1966\n",
              "4     Baltimore Ravens          1996\n",
              "5  San Francisco 49ers          1950"
            ]
          },
          "metadata": {
            "tags": []
          },
          "execution_count": 15
        }
      ]
    },
    {
      "metadata": {
        "id": "deEOHTohBt5Z",
        "colab_type": "code",
        "colab": {
          "base_uri": "https://localhost:8080/",
          "height": 233
        },
        "outputId": "f98677b5-2006-41e9-ece3-862bfec2820c"
      },
      "cell_type": "code",
      "source": [
        "DataFrame(nfl_frame, columns=['Team', 'First Season'])"
      ],
      "execution_count": 16,
      "outputs": [
        {
          "output_type": "execute_result",
          "data": {
            "text/html": [
              "<div>\n",
              "<style scoped>\n",
              "    .dataframe tbody tr th:only-of-type {\n",
              "        vertical-align: middle;\n",
              "    }\n",
              "\n",
              "    .dataframe tbody tr th {\n",
              "        vertical-align: top;\n",
              "    }\n",
              "\n",
              "    .dataframe thead th {\n",
              "        text-align: right;\n",
              "    }\n",
              "</style>\n",
              "<table border=\"1\" class=\"dataframe\">\n",
              "  <thead>\n",
              "    <tr style=\"text-align: right;\">\n",
              "      <th></th>\n",
              "      <th>Team</th>\n",
              "      <th>First Season</th>\n",
              "    </tr>\n",
              "  </thead>\n",
              "  <tbody>\n",
              "    <tr>\n",
              "      <th>0</th>\n",
              "      <td>Dallas Cowboys</td>\n",
              "      <td>1960</td>\n",
              "    </tr>\n",
              "    <tr>\n",
              "      <th>1</th>\n",
              "      <td>Chicago Bears</td>\n",
              "      <td>1920</td>\n",
              "    </tr>\n",
              "    <tr>\n",
              "      <th>2</th>\n",
              "      <td>Green Bay Packers</td>\n",
              "      <td>1921</td>\n",
              "    </tr>\n",
              "    <tr>\n",
              "      <th>3</th>\n",
              "      <td>Miami Dolphins</td>\n",
              "      <td>1966</td>\n",
              "    </tr>\n",
              "    <tr>\n",
              "      <th>4</th>\n",
              "      <td>Baltimore Ravens</td>\n",
              "      <td>1996</td>\n",
              "    </tr>\n",
              "    <tr>\n",
              "      <th>5</th>\n",
              "      <td>San Francisco 49ers</td>\n",
              "      <td>1950</td>\n",
              "    </tr>\n",
              "  </tbody>\n",
              "</table>\n",
              "</div>"
            ],
            "text/plain": [
              "                  Team  First Season\n",
              "0       Dallas Cowboys          1960\n",
              "1        Chicago Bears          1920\n",
              "2    Green Bay Packers          1921\n",
              "3       Miami Dolphins          1966\n",
              "4     Baltimore Ravens          1996\n",
              "5  San Francisco 49ers          1950"
            ]
          },
          "metadata": {
            "tags": []
          },
          "execution_count": 16
        }
      ]
    },
    {
      "metadata": {
        "id": "2uTw0YwAB4Va",
        "colab_type": "code",
        "colab": {
          "base_uri": "https://localhost:8080/",
          "height": 141
        },
        "outputId": "41e1a916-a1d3-4d11-e511-93accaabfd24"
      },
      "cell_type": "code",
      "source": [
        "nfl_frame.head(3)"
      ],
      "execution_count": 18,
      "outputs": [
        {
          "output_type": "execute_result",
          "data": {
            "text/html": [
              "<div>\n",
              "<style scoped>\n",
              "    .dataframe tbody tr th:only-of-type {\n",
              "        vertical-align: middle;\n",
              "    }\n",
              "\n",
              "    .dataframe tbody tr th {\n",
              "        vertical-align: top;\n",
              "    }\n",
              "\n",
              "    .dataframe thead th {\n",
              "        text-align: right;\n",
              "    }\n",
              "</style>\n",
              "<table border=\"1\" class=\"dataframe\">\n",
              "  <thead>\n",
              "    <tr style=\"text-align: right;\">\n",
              "      <th></th>\n",
              "      <th>Rank</th>\n",
              "      <th>Team</th>\n",
              "      <th>Won</th>\n",
              "      <th>Lost</th>\n",
              "      <th>Tied</th>\n",
              "      <th>Pct.</th>\n",
              "      <th>First Season</th>\n",
              "      <th>Total Games</th>\n",
              "      <th>Conference</th>\n",
              "    </tr>\n",
              "  </thead>\n",
              "  <tbody>\n",
              "    <tr>\n",
              "      <th>0</th>\n",
              "      <td>1</td>\n",
              "      <td>Dallas Cowboys</td>\n",
              "      <td>510</td>\n",
              "      <td>378</td>\n",
              "      <td>6</td>\n",
              "      <td>0.574</td>\n",
              "      <td>1960</td>\n",
              "      <td>894</td>\n",
              "      <td>NFC East</td>\n",
              "    </tr>\n",
              "    <tr>\n",
              "      <th>1</th>\n",
              "      <td>2</td>\n",
              "      <td>Chicago Bears</td>\n",
              "      <td>752</td>\n",
              "      <td>563</td>\n",
              "      <td>42</td>\n",
              "      <td>0.570</td>\n",
              "      <td>1920</td>\n",
              "      <td>1357</td>\n",
              "      <td>NFC North</td>\n",
              "    </tr>\n",
              "    <tr>\n",
              "      <th>2</th>\n",
              "      <td>3</td>\n",
              "      <td>Green Bay Packers</td>\n",
              "      <td>741</td>\n",
              "      <td>561</td>\n",
              "      <td>37</td>\n",
              "      <td>0.567</td>\n",
              "      <td>1921</td>\n",
              "      <td>1339</td>\n",
              "      <td>NFC North</td>\n",
              "    </tr>\n",
              "  </tbody>\n",
              "</table>\n",
              "</div>"
            ],
            "text/plain": [
              "   Rank               Team  Won  Lost  Tied   Pct.  First Season  Total Games  \\\n",
              "0     1     Dallas Cowboys  510   378     6  0.574          1960          894   \n",
              "1     2      Chicago Bears  752   563    42  0.570          1920         1357   \n",
              "2     3  Green Bay Packers  741   561    37  0.567          1921         1339   \n",
              "\n",
              "  Conference  \n",
              "0   NFC East  \n",
              "1  NFC North  \n",
              "2  NFC North  "
            ]
          },
          "metadata": {
            "tags": []
          },
          "execution_count": 18
        }
      ]
    },
    {
      "metadata": {
        "id": "p7k9suRMCOfK",
        "colab_type": "code",
        "colab": {
          "base_uri": "https://localhost:8080/",
          "height": 141
        },
        "outputId": "3086211e-50bf-4d2d-8097-7cc84509dff1"
      },
      "cell_type": "code",
      "source": [
        "nfl_frame.tail(3)"
      ],
      "execution_count": 19,
      "outputs": [
        {
          "output_type": "execute_result",
          "data": {
            "text/html": [
              "<div>\n",
              "<style scoped>\n",
              "    .dataframe tbody tr th:only-of-type {\n",
              "        vertical-align: middle;\n",
              "    }\n",
              "\n",
              "    .dataframe tbody tr th {\n",
              "        vertical-align: top;\n",
              "    }\n",
              "\n",
              "    .dataframe thead th {\n",
              "        text-align: right;\n",
              "    }\n",
              "</style>\n",
              "<table border=\"1\" class=\"dataframe\">\n",
              "  <thead>\n",
              "    <tr style=\"text-align: right;\">\n",
              "      <th></th>\n",
              "      <th>Rank</th>\n",
              "      <th>Team</th>\n",
              "      <th>Won</th>\n",
              "      <th>Lost</th>\n",
              "      <th>Tied</th>\n",
              "      <th>Pct.</th>\n",
              "      <th>First Season</th>\n",
              "      <th>Total Games</th>\n",
              "      <th>Conference</th>\n",
              "    </tr>\n",
              "  </thead>\n",
              "  <tbody>\n",
              "    <tr>\n",
              "      <th>3</th>\n",
              "      <td>4</td>\n",
              "      <td>Miami Dolphins</td>\n",
              "      <td>443</td>\n",
              "      <td>345</td>\n",
              "      <td>4</td>\n",
              "      <td>0.562</td>\n",
              "      <td>1966</td>\n",
              "      <td>792</td>\n",
              "      <td>AFC East</td>\n",
              "    </tr>\n",
              "    <tr>\n",
              "      <th>4</th>\n",
              "      <td>5</td>\n",
              "      <td>Baltimore Ravens</td>\n",
              "      <td>182</td>\n",
              "      <td>143</td>\n",
              "      <td>1</td>\n",
              "      <td>0.560</td>\n",
              "      <td>1996</td>\n",
              "      <td>326</td>\n",
              "      <td>AFC North</td>\n",
              "    </tr>\n",
              "    <tr>\n",
              "      <th>5</th>\n",
              "      <td>6</td>\n",
              "      <td>San Francisco 49ers</td>\n",
              "      <td>545</td>\n",
              "      <td>444</td>\n",
              "      <td>14</td>\n",
              "      <td>0.550</td>\n",
              "      <td>1950</td>\n",
              "      <td>1003</td>\n",
              "      <td>NFC West</td>\n",
              "    </tr>\n",
              "  </tbody>\n",
              "</table>\n",
              "</div>"
            ],
            "text/plain": [
              "   Rank                 Team  Won  Lost  Tied   Pct.  First Season  \\\n",
              "3     4       Miami Dolphins  443   345     4  0.562          1966   \n",
              "4     5     Baltimore Ravens  182   143     1  0.560          1996   \n",
              "5     6  San Francisco 49ers  545   444    14  0.550          1950   \n",
              "\n",
              "   Total Games Conference  \n",
              "3          792   AFC East  \n",
              "4          326  AFC North  \n",
              "5         1003   NFC West  "
            ]
          },
          "metadata": {
            "tags": []
          },
          "execution_count": 19
        }
      ]
    },
    {
      "metadata": {
        "id": "7dKtMwopCVRJ",
        "colab_type": "code",
        "colab": {
          "base_uri": "https://localhost:8080/",
          "height": 321
        },
        "outputId": "45bc212f-a0c8-4e0b-814f-c3e750a59484"
      },
      "cell_type": "code",
      "source": [
        "nfl_frame.ix[3]"
      ],
      "execution_count": 20,
      "outputs": [
        {
          "output_type": "stream",
          "text": [
            "/usr/local/lib/python3.6/dist-packages/ipykernel_launcher.py:1: DeprecationWarning: \n",
            ".ix is deprecated. Please use\n",
            ".loc for label based indexing or\n",
            ".iloc for positional indexing\n",
            "\n",
            "See the documentation here:\n",
            "http://pandas.pydata.org/pandas-docs/stable/indexing.html#ix-indexer-is-deprecated\n",
            "  \"\"\"Entry point for launching an IPython kernel.\n"
          ],
          "name": "stderr"
        },
        {
          "output_type": "execute_result",
          "data": {
            "text/plain": [
              "Rank                         4\n",
              "Team            Miami Dolphins\n",
              "Won                        443\n",
              "Lost                       345\n",
              "Tied                         4\n",
              "Pct.                     0.562\n",
              "First Season              1966\n",
              "Total Games                792\n",
              "Conference            AFC East\n",
              "Name: 3, dtype: object"
            ]
          },
          "metadata": {
            "tags": []
          },
          "execution_count": 20
        }
      ]
    },
    {
      "metadata": {
        "id": "S210bnsoCYkY",
        "colab_type": "code",
        "colab": {}
      },
      "cell_type": "code",
      "source": [
        "nfl_frame['Stadium'] = \"Levi's Stadium\""
      ],
      "execution_count": 0,
      "outputs": []
    },
    {
      "metadata": {
        "id": "4Hxf3g2hCpUK",
        "colab_type": "code",
        "colab": {
          "base_uri": "https://localhost:8080/",
          "height": 233
        },
        "outputId": "ecc0823d-7796-44e5-f5e7-f750b01f3d13"
      },
      "cell_type": "code",
      "source": [
        "nfl_frame"
      ],
      "execution_count": 22,
      "outputs": [
        {
          "output_type": "execute_result",
          "data": {
            "text/html": [
              "<div>\n",
              "<style scoped>\n",
              "    .dataframe tbody tr th:only-of-type {\n",
              "        vertical-align: middle;\n",
              "    }\n",
              "\n",
              "    .dataframe tbody tr th {\n",
              "        vertical-align: top;\n",
              "    }\n",
              "\n",
              "    .dataframe thead th {\n",
              "        text-align: right;\n",
              "    }\n",
              "</style>\n",
              "<table border=\"1\" class=\"dataframe\">\n",
              "  <thead>\n",
              "    <tr style=\"text-align: right;\">\n",
              "      <th></th>\n",
              "      <th>Rank</th>\n",
              "      <th>Team</th>\n",
              "      <th>Won</th>\n",
              "      <th>Lost</th>\n",
              "      <th>Tied</th>\n",
              "      <th>Pct.</th>\n",
              "      <th>First Season</th>\n",
              "      <th>Total Games</th>\n",
              "      <th>Conference</th>\n",
              "      <th>Stadium</th>\n",
              "    </tr>\n",
              "  </thead>\n",
              "  <tbody>\n",
              "    <tr>\n",
              "      <th>0</th>\n",
              "      <td>1</td>\n",
              "      <td>Dallas Cowboys</td>\n",
              "      <td>510</td>\n",
              "      <td>378</td>\n",
              "      <td>6</td>\n",
              "      <td>0.574</td>\n",
              "      <td>1960</td>\n",
              "      <td>894</td>\n",
              "      <td>NFC East</td>\n",
              "      <td>Levi's Stadium</td>\n",
              "    </tr>\n",
              "    <tr>\n",
              "      <th>1</th>\n",
              "      <td>2</td>\n",
              "      <td>Chicago Bears</td>\n",
              "      <td>752</td>\n",
              "      <td>563</td>\n",
              "      <td>42</td>\n",
              "      <td>0.570</td>\n",
              "      <td>1920</td>\n",
              "      <td>1357</td>\n",
              "      <td>NFC North</td>\n",
              "      <td>Levi's Stadium</td>\n",
              "    </tr>\n",
              "    <tr>\n",
              "      <th>2</th>\n",
              "      <td>3</td>\n",
              "      <td>Green Bay Packers</td>\n",
              "      <td>741</td>\n",
              "      <td>561</td>\n",
              "      <td>37</td>\n",
              "      <td>0.567</td>\n",
              "      <td>1921</td>\n",
              "      <td>1339</td>\n",
              "      <td>NFC North</td>\n",
              "      <td>Levi's Stadium</td>\n",
              "    </tr>\n",
              "    <tr>\n",
              "      <th>3</th>\n",
              "      <td>4</td>\n",
              "      <td>Miami Dolphins</td>\n",
              "      <td>443</td>\n",
              "      <td>345</td>\n",
              "      <td>4</td>\n",
              "      <td>0.562</td>\n",
              "      <td>1966</td>\n",
              "      <td>792</td>\n",
              "      <td>AFC East</td>\n",
              "      <td>Levi's Stadium</td>\n",
              "    </tr>\n",
              "    <tr>\n",
              "      <th>4</th>\n",
              "      <td>5</td>\n",
              "      <td>Baltimore Ravens</td>\n",
              "      <td>182</td>\n",
              "      <td>143</td>\n",
              "      <td>1</td>\n",
              "      <td>0.560</td>\n",
              "      <td>1996</td>\n",
              "      <td>326</td>\n",
              "      <td>AFC North</td>\n",
              "      <td>Levi's Stadium</td>\n",
              "    </tr>\n",
              "    <tr>\n",
              "      <th>5</th>\n",
              "      <td>6</td>\n",
              "      <td>San Francisco 49ers</td>\n",
              "      <td>545</td>\n",
              "      <td>444</td>\n",
              "      <td>14</td>\n",
              "      <td>0.550</td>\n",
              "      <td>1950</td>\n",
              "      <td>1003</td>\n",
              "      <td>NFC West</td>\n",
              "      <td>Levi's Stadium</td>\n",
              "    </tr>\n",
              "  </tbody>\n",
              "</table>\n",
              "</div>"
            ],
            "text/plain": [
              "   Rank                 Team  Won  Lost  Tied   Pct.  First Season  \\\n",
              "0     1       Dallas Cowboys  510   378     6  0.574          1960   \n",
              "1     2        Chicago Bears  752   563    42  0.570          1920   \n",
              "2     3    Green Bay Packers  741   561    37  0.567          1921   \n",
              "3     4       Miami Dolphins  443   345     4  0.562          1966   \n",
              "4     5     Baltimore Ravens  182   143     1  0.560          1996   \n",
              "5     6  San Francisco 49ers  545   444    14  0.550          1950   \n",
              "\n",
              "   Total Games Conference         Stadium  \n",
              "0          894   NFC East  Levi's Stadium  \n",
              "1         1357  NFC North  Levi's Stadium  \n",
              "2         1339  NFC North  Levi's Stadium  \n",
              "3          792   AFC East  Levi's Stadium  \n",
              "4          326  AFC North  Levi's Stadium  \n",
              "5         1003   NFC West  Levi's Stadium  "
            ]
          },
          "metadata": {
            "tags": []
          },
          "execution_count": 22
        }
      ]
    },
    {
      "metadata": {
        "id": "eOwUcHevCquP",
        "colab_type": "code",
        "colab": {}
      },
      "cell_type": "code",
      "source": [
        "nfl_frame['Stadium'] = np.arange(6)"
      ],
      "execution_count": 0,
      "outputs": []
    },
    {
      "metadata": {
        "id": "C5fmQFJFC8bG",
        "colab_type": "code",
        "colab": {
          "base_uri": "https://localhost:8080/",
          "height": 233
        },
        "outputId": "7f9b698d-1ff6-4abf-cdec-124c69596efd"
      },
      "cell_type": "code",
      "source": [
        "nfl_frame"
      ],
      "execution_count": 24,
      "outputs": [
        {
          "output_type": "execute_result",
          "data": {
            "text/html": [
              "<div>\n",
              "<style scoped>\n",
              "    .dataframe tbody tr th:only-of-type {\n",
              "        vertical-align: middle;\n",
              "    }\n",
              "\n",
              "    .dataframe tbody tr th {\n",
              "        vertical-align: top;\n",
              "    }\n",
              "\n",
              "    .dataframe thead th {\n",
              "        text-align: right;\n",
              "    }\n",
              "</style>\n",
              "<table border=\"1\" class=\"dataframe\">\n",
              "  <thead>\n",
              "    <tr style=\"text-align: right;\">\n",
              "      <th></th>\n",
              "      <th>Rank</th>\n",
              "      <th>Team</th>\n",
              "      <th>Won</th>\n",
              "      <th>Lost</th>\n",
              "      <th>Tied</th>\n",
              "      <th>Pct.</th>\n",
              "      <th>First Season</th>\n",
              "      <th>Total Games</th>\n",
              "      <th>Conference</th>\n",
              "      <th>Stadium</th>\n",
              "    </tr>\n",
              "  </thead>\n",
              "  <tbody>\n",
              "    <tr>\n",
              "      <th>0</th>\n",
              "      <td>1</td>\n",
              "      <td>Dallas Cowboys</td>\n",
              "      <td>510</td>\n",
              "      <td>378</td>\n",
              "      <td>6</td>\n",
              "      <td>0.574</td>\n",
              "      <td>1960</td>\n",
              "      <td>894</td>\n",
              "      <td>NFC East</td>\n",
              "      <td>0</td>\n",
              "    </tr>\n",
              "    <tr>\n",
              "      <th>1</th>\n",
              "      <td>2</td>\n",
              "      <td>Chicago Bears</td>\n",
              "      <td>752</td>\n",
              "      <td>563</td>\n",
              "      <td>42</td>\n",
              "      <td>0.570</td>\n",
              "      <td>1920</td>\n",
              "      <td>1357</td>\n",
              "      <td>NFC North</td>\n",
              "      <td>1</td>\n",
              "    </tr>\n",
              "    <tr>\n",
              "      <th>2</th>\n",
              "      <td>3</td>\n",
              "      <td>Green Bay Packers</td>\n",
              "      <td>741</td>\n",
              "      <td>561</td>\n",
              "      <td>37</td>\n",
              "      <td>0.567</td>\n",
              "      <td>1921</td>\n",
              "      <td>1339</td>\n",
              "      <td>NFC North</td>\n",
              "      <td>2</td>\n",
              "    </tr>\n",
              "    <tr>\n",
              "      <th>3</th>\n",
              "      <td>4</td>\n",
              "      <td>Miami Dolphins</td>\n",
              "      <td>443</td>\n",
              "      <td>345</td>\n",
              "      <td>4</td>\n",
              "      <td>0.562</td>\n",
              "      <td>1966</td>\n",
              "      <td>792</td>\n",
              "      <td>AFC East</td>\n",
              "      <td>3</td>\n",
              "    </tr>\n",
              "    <tr>\n",
              "      <th>4</th>\n",
              "      <td>5</td>\n",
              "      <td>Baltimore Ravens</td>\n",
              "      <td>182</td>\n",
              "      <td>143</td>\n",
              "      <td>1</td>\n",
              "      <td>0.560</td>\n",
              "      <td>1996</td>\n",
              "      <td>326</td>\n",
              "      <td>AFC North</td>\n",
              "      <td>4</td>\n",
              "    </tr>\n",
              "    <tr>\n",
              "      <th>5</th>\n",
              "      <td>6</td>\n",
              "      <td>San Francisco 49ers</td>\n",
              "      <td>545</td>\n",
              "      <td>444</td>\n",
              "      <td>14</td>\n",
              "      <td>0.550</td>\n",
              "      <td>1950</td>\n",
              "      <td>1003</td>\n",
              "      <td>NFC West</td>\n",
              "      <td>5</td>\n",
              "    </tr>\n",
              "  </tbody>\n",
              "</table>\n",
              "</div>"
            ],
            "text/plain": [
              "   Rank                 Team  Won  Lost  Tied   Pct.  First Season  \\\n",
              "0     1       Dallas Cowboys  510   378     6  0.574          1960   \n",
              "1     2        Chicago Bears  752   563    42  0.570          1920   \n",
              "2     3    Green Bay Packers  741   561    37  0.567          1921   \n",
              "3     4       Miami Dolphins  443   345     4  0.562          1966   \n",
              "4     5     Baltimore Ravens  182   143     1  0.560          1996   \n",
              "5     6  San Francisco 49ers  545   444    14  0.550          1950   \n",
              "\n",
              "   Total Games Conference  Stadium  \n",
              "0          894   NFC East        0  \n",
              "1         1357  NFC North        1  \n",
              "2         1339  NFC North        2  \n",
              "3          792   AFC East        3  \n",
              "4          326  AFC North        4  \n",
              "5         1003   NFC West        5  "
            ]
          },
          "metadata": {
            "tags": []
          },
          "execution_count": 24
        }
      ]
    },
    {
      "metadata": {
        "id": "L8UQa6L2C-Fn",
        "colab_type": "code",
        "colab": {}
      },
      "cell_type": "code",
      "source": [
        "stadiums = Series([\"Levi's stadium\", 'AT&T Stadium'], index=[4,0])"
      ],
      "execution_count": 0,
      "outputs": []
    },
    {
      "metadata": {
        "id": "DXTsSGlFDWJZ",
        "colab_type": "code",
        "colab": {
          "base_uri": "https://localhost:8080/",
          "height": 68
        },
        "outputId": "2e12c40e-ebbc-495f-ecc4-be5ca8311ac1"
      },
      "cell_type": "code",
      "source": [
        "stadiums"
      ],
      "execution_count": 26,
      "outputs": [
        {
          "output_type": "execute_result",
          "data": {
            "text/plain": [
              "4    Levi's stadium\n",
              "0      AT&T Stadium\n",
              "dtype: object"
            ]
          },
          "metadata": {
            "tags": []
          },
          "execution_count": 26
        }
      ]
    },
    {
      "metadata": {
        "id": "ujnOTNYdDXQu",
        "colab_type": "code",
        "colab": {}
      },
      "cell_type": "code",
      "source": [
        "nfl_frame['Stadium'] = stadiums"
      ],
      "execution_count": 0,
      "outputs": []
    },
    {
      "metadata": {
        "id": "O8apzyhTDdaP",
        "colab_type": "code",
        "colab": {
          "base_uri": "https://localhost:8080/",
          "height": 233
        },
        "outputId": "3ede9b82-0c22-470f-bba1-cd203110711d"
      },
      "cell_type": "code",
      "source": [
        "nfl_frame"
      ],
      "execution_count": 28,
      "outputs": [
        {
          "output_type": "execute_result",
          "data": {
            "text/html": [
              "<div>\n",
              "<style scoped>\n",
              "    .dataframe tbody tr th:only-of-type {\n",
              "        vertical-align: middle;\n",
              "    }\n",
              "\n",
              "    .dataframe tbody tr th {\n",
              "        vertical-align: top;\n",
              "    }\n",
              "\n",
              "    .dataframe thead th {\n",
              "        text-align: right;\n",
              "    }\n",
              "</style>\n",
              "<table border=\"1\" class=\"dataframe\">\n",
              "  <thead>\n",
              "    <tr style=\"text-align: right;\">\n",
              "      <th></th>\n",
              "      <th>Rank</th>\n",
              "      <th>Team</th>\n",
              "      <th>Won</th>\n",
              "      <th>Lost</th>\n",
              "      <th>Tied</th>\n",
              "      <th>Pct.</th>\n",
              "      <th>First Season</th>\n",
              "      <th>Total Games</th>\n",
              "      <th>Conference</th>\n",
              "      <th>Stadium</th>\n",
              "    </tr>\n",
              "  </thead>\n",
              "  <tbody>\n",
              "    <tr>\n",
              "      <th>0</th>\n",
              "      <td>1</td>\n",
              "      <td>Dallas Cowboys</td>\n",
              "      <td>510</td>\n",
              "      <td>378</td>\n",
              "      <td>6</td>\n",
              "      <td>0.574</td>\n",
              "      <td>1960</td>\n",
              "      <td>894</td>\n",
              "      <td>NFC East</td>\n",
              "      <td>AT&amp;T Stadium</td>\n",
              "    </tr>\n",
              "    <tr>\n",
              "      <th>1</th>\n",
              "      <td>2</td>\n",
              "      <td>Chicago Bears</td>\n",
              "      <td>752</td>\n",
              "      <td>563</td>\n",
              "      <td>42</td>\n",
              "      <td>0.570</td>\n",
              "      <td>1920</td>\n",
              "      <td>1357</td>\n",
              "      <td>NFC North</td>\n",
              "      <td>NaN</td>\n",
              "    </tr>\n",
              "    <tr>\n",
              "      <th>2</th>\n",
              "      <td>3</td>\n",
              "      <td>Green Bay Packers</td>\n",
              "      <td>741</td>\n",
              "      <td>561</td>\n",
              "      <td>37</td>\n",
              "      <td>0.567</td>\n",
              "      <td>1921</td>\n",
              "      <td>1339</td>\n",
              "      <td>NFC North</td>\n",
              "      <td>NaN</td>\n",
              "    </tr>\n",
              "    <tr>\n",
              "      <th>3</th>\n",
              "      <td>4</td>\n",
              "      <td>Miami Dolphins</td>\n",
              "      <td>443</td>\n",
              "      <td>345</td>\n",
              "      <td>4</td>\n",
              "      <td>0.562</td>\n",
              "      <td>1966</td>\n",
              "      <td>792</td>\n",
              "      <td>AFC East</td>\n",
              "      <td>NaN</td>\n",
              "    </tr>\n",
              "    <tr>\n",
              "      <th>4</th>\n",
              "      <td>5</td>\n",
              "      <td>Baltimore Ravens</td>\n",
              "      <td>182</td>\n",
              "      <td>143</td>\n",
              "      <td>1</td>\n",
              "      <td>0.560</td>\n",
              "      <td>1996</td>\n",
              "      <td>326</td>\n",
              "      <td>AFC North</td>\n",
              "      <td>Levi's stadium</td>\n",
              "    </tr>\n",
              "    <tr>\n",
              "      <th>5</th>\n",
              "      <td>6</td>\n",
              "      <td>San Francisco 49ers</td>\n",
              "      <td>545</td>\n",
              "      <td>444</td>\n",
              "      <td>14</td>\n",
              "      <td>0.550</td>\n",
              "      <td>1950</td>\n",
              "      <td>1003</td>\n",
              "      <td>NFC West</td>\n",
              "      <td>NaN</td>\n",
              "    </tr>\n",
              "  </tbody>\n",
              "</table>\n",
              "</div>"
            ],
            "text/plain": [
              "   Rank                 Team  Won  Lost  Tied   Pct.  First Season  \\\n",
              "0     1       Dallas Cowboys  510   378     6  0.574          1960   \n",
              "1     2        Chicago Bears  752   563    42  0.570          1920   \n",
              "2     3    Green Bay Packers  741   561    37  0.567          1921   \n",
              "3     4       Miami Dolphins  443   345     4  0.562          1966   \n",
              "4     5     Baltimore Ravens  182   143     1  0.560          1996   \n",
              "5     6  San Francisco 49ers  545   444    14  0.550          1950   \n",
              "\n",
              "   Total Games Conference         Stadium  \n",
              "0          894   NFC East    AT&T Stadium  \n",
              "1         1357  NFC North             NaN  \n",
              "2         1339  NFC North             NaN  \n",
              "3          792   AFC East             NaN  \n",
              "4          326  AFC North  Levi's stadium  \n",
              "5         1003   NFC West             NaN  "
            ]
          },
          "metadata": {
            "tags": []
          },
          "execution_count": 28
        }
      ]
    },
    {
      "metadata": {
        "id": "3-0iTa5zDeS9",
        "colab_type": "code",
        "colab": {}
      },
      "cell_type": "code",
      "source": [
        "del nfl_frame['Stadium']"
      ],
      "execution_count": 0,
      "outputs": []
    },
    {
      "metadata": {
        "id": "WkOdI_lFGfic",
        "colab_type": "code",
        "colab": {
          "base_uri": "https://localhost:8080/",
          "height": 233
        },
        "outputId": "ad3425d2-afec-43d9-ff5d-77a140f35fde"
      },
      "cell_type": "code",
      "source": [
        "nfl_frame"
      ],
      "execution_count": 30,
      "outputs": [
        {
          "output_type": "execute_result",
          "data": {
            "text/html": [
              "<div>\n",
              "<style scoped>\n",
              "    .dataframe tbody tr th:only-of-type {\n",
              "        vertical-align: middle;\n",
              "    }\n",
              "\n",
              "    .dataframe tbody tr th {\n",
              "        vertical-align: top;\n",
              "    }\n",
              "\n",
              "    .dataframe thead th {\n",
              "        text-align: right;\n",
              "    }\n",
              "</style>\n",
              "<table border=\"1\" class=\"dataframe\">\n",
              "  <thead>\n",
              "    <tr style=\"text-align: right;\">\n",
              "      <th></th>\n",
              "      <th>Rank</th>\n",
              "      <th>Team</th>\n",
              "      <th>Won</th>\n",
              "      <th>Lost</th>\n",
              "      <th>Tied</th>\n",
              "      <th>Pct.</th>\n",
              "      <th>First Season</th>\n",
              "      <th>Total Games</th>\n",
              "      <th>Conference</th>\n",
              "    </tr>\n",
              "  </thead>\n",
              "  <tbody>\n",
              "    <tr>\n",
              "      <th>0</th>\n",
              "      <td>1</td>\n",
              "      <td>Dallas Cowboys</td>\n",
              "      <td>510</td>\n",
              "      <td>378</td>\n",
              "      <td>6</td>\n",
              "      <td>0.574</td>\n",
              "      <td>1960</td>\n",
              "      <td>894</td>\n",
              "      <td>NFC East</td>\n",
              "    </tr>\n",
              "    <tr>\n",
              "      <th>1</th>\n",
              "      <td>2</td>\n",
              "      <td>Chicago Bears</td>\n",
              "      <td>752</td>\n",
              "      <td>563</td>\n",
              "      <td>42</td>\n",
              "      <td>0.570</td>\n",
              "      <td>1920</td>\n",
              "      <td>1357</td>\n",
              "      <td>NFC North</td>\n",
              "    </tr>\n",
              "    <tr>\n",
              "      <th>2</th>\n",
              "      <td>3</td>\n",
              "      <td>Green Bay Packers</td>\n",
              "      <td>741</td>\n",
              "      <td>561</td>\n",
              "      <td>37</td>\n",
              "      <td>0.567</td>\n",
              "      <td>1921</td>\n",
              "      <td>1339</td>\n",
              "      <td>NFC North</td>\n",
              "    </tr>\n",
              "    <tr>\n",
              "      <th>3</th>\n",
              "      <td>4</td>\n",
              "      <td>Miami Dolphins</td>\n",
              "      <td>443</td>\n",
              "      <td>345</td>\n",
              "      <td>4</td>\n",
              "      <td>0.562</td>\n",
              "      <td>1966</td>\n",
              "      <td>792</td>\n",
              "      <td>AFC East</td>\n",
              "    </tr>\n",
              "    <tr>\n",
              "      <th>4</th>\n",
              "      <td>5</td>\n",
              "      <td>Baltimore Ravens</td>\n",
              "      <td>182</td>\n",
              "      <td>143</td>\n",
              "      <td>1</td>\n",
              "      <td>0.560</td>\n",
              "      <td>1996</td>\n",
              "      <td>326</td>\n",
              "      <td>AFC North</td>\n",
              "    </tr>\n",
              "    <tr>\n",
              "      <th>5</th>\n",
              "      <td>6</td>\n",
              "      <td>San Francisco 49ers</td>\n",
              "      <td>545</td>\n",
              "      <td>444</td>\n",
              "      <td>14</td>\n",
              "      <td>0.550</td>\n",
              "      <td>1950</td>\n",
              "      <td>1003</td>\n",
              "      <td>NFC West</td>\n",
              "    </tr>\n",
              "  </tbody>\n",
              "</table>\n",
              "</div>"
            ],
            "text/plain": [
              "   Rank                 Team  Won  Lost  Tied   Pct.  First Season  \\\n",
              "0     1       Dallas Cowboys  510   378     6  0.574          1960   \n",
              "1     2        Chicago Bears  752   563    42  0.570          1920   \n",
              "2     3    Green Bay Packers  741   561    37  0.567          1921   \n",
              "3     4       Miami Dolphins  443   345     4  0.562          1966   \n",
              "4     5     Baltimore Ravens  182   143     1  0.560          1996   \n",
              "5     6  San Francisco 49ers  545   444    14  0.550          1950   \n",
              "\n",
              "   Total Games Conference  \n",
              "0          894   NFC East  \n",
              "1         1357  NFC North  \n",
              "2         1339  NFC North  \n",
              "3          792   AFC East  \n",
              "4          326  AFC North  \n",
              "5         1003   NFC West  "
            ]
          },
          "metadata": {
            "tags": []
          },
          "execution_count": 30
        }
      ]
    },
    {
      "metadata": {
        "id": "zfY5Ne8uGikd",
        "colab_type": "code",
        "colab": {}
      },
      "cell_type": "code",
      "source": [
        "data = {'City':['SF', 'LA', 'NYC'], 'Population':[837000,3880000,8400000]}"
      ],
      "execution_count": 0,
      "outputs": []
    },
    {
      "metadata": {
        "id": "2ERvzv3YGy_O",
        "colab_type": "code",
        "colab": {
          "base_uri": "https://localhost:8080/",
          "height": 34
        },
        "outputId": "2feea28f-2df4-4593-9aae-03f6d02942d4"
      },
      "cell_type": "code",
      "source": [
        "data"
      ],
      "execution_count": 32,
      "outputs": [
        {
          "output_type": "execute_result",
          "data": {
            "text/plain": [
              "{'City': ['SF', 'LA', 'NYC'], 'Population': [837000, 3880000, 8400000]}"
            ]
          },
          "metadata": {
            "tags": []
          },
          "execution_count": 32
        }
      ]
    },
    {
      "metadata": {
        "id": "XQwAH2nMGz08",
        "colab_type": "code",
        "colab": {}
      },
      "cell_type": "code",
      "source": [
        "city_frame = DataFrame(data)"
      ],
      "execution_count": 0,
      "outputs": []
    },
    {
      "metadata": {
        "id": "ZPpA0jqmG3PH",
        "colab_type": "code",
        "colab": {
          "base_uri": "https://localhost:8080/",
          "height": 141
        },
        "outputId": "8a22fab0-ff68-44bf-b2ce-5a2f913a1b79"
      },
      "cell_type": "code",
      "source": [
        "city_frame"
      ],
      "execution_count": 34,
      "outputs": [
        {
          "output_type": "execute_result",
          "data": {
            "text/html": [
              "<div>\n",
              "<style scoped>\n",
              "    .dataframe tbody tr th:only-of-type {\n",
              "        vertical-align: middle;\n",
              "    }\n",
              "\n",
              "    .dataframe tbody tr th {\n",
              "        vertical-align: top;\n",
              "    }\n",
              "\n",
              "    .dataframe thead th {\n",
              "        text-align: right;\n",
              "    }\n",
              "</style>\n",
              "<table border=\"1\" class=\"dataframe\">\n",
              "  <thead>\n",
              "    <tr style=\"text-align: right;\">\n",
              "      <th></th>\n",
              "      <th>City</th>\n",
              "      <th>Population</th>\n",
              "    </tr>\n",
              "  </thead>\n",
              "  <tbody>\n",
              "    <tr>\n",
              "      <th>0</th>\n",
              "      <td>SF</td>\n",
              "      <td>837000</td>\n",
              "    </tr>\n",
              "    <tr>\n",
              "      <th>1</th>\n",
              "      <td>LA</td>\n",
              "      <td>3880000</td>\n",
              "    </tr>\n",
              "    <tr>\n",
              "      <th>2</th>\n",
              "      <td>NYC</td>\n",
              "      <td>8400000</td>\n",
              "    </tr>\n",
              "  </tbody>\n",
              "</table>\n",
              "</div>"
            ],
            "text/plain": [
              "  City  Population\n",
              "0   SF      837000\n",
              "1   LA     3880000\n",
              "2  NYC     8400000"
            ]
          },
          "metadata": {
            "tags": []
          },
          "execution_count": 34
        }
      ]
    },
    {
      "metadata": {
        "id": "cZk8kRdoG4gB",
        "colab_type": "code",
        "colab": {}
      },
      "cell_type": "code",
      "source": [
        ""
      ],
      "execution_count": 0,
      "outputs": []
    }
  ]
}