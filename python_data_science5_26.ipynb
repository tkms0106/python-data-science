{
  "nbformat": 4,
  "nbformat_minor": 0,
  "metadata": {
    "colab": {
      "name": "python-data-science4-26.ipynb",
      "version": "0.3.2",
      "provenance": [],
      "include_colab_link": true
    },
    "kernelspec": {
      "name": "python3",
      "display_name": "Python 3"
    }
  },
  "cells": [
    {
      "cell_type": "markdown",
      "metadata": {
        "id": "view-in-github",
        "colab_type": "text"
      },
      "source": [
        "[View in Colaboratory](https://colab.research.google.com/github/tkms0106/python-data-science/blob/master/python_data_science4_26.ipynb)"
      ]
    },
    {
      "metadata": {
        "id": "-JVEh4b0iN73",
        "colab_type": "code",
        "colab": {}
      },
      "cell_type": "code",
      "source": [
        "json_obj = \"\"\"\n",
        "{   \"zoo_animal\": \"Lion\",\n",
        "    \"food\": [\"Meat\", \"Veggies\", \"Honey\"],\n",
        "    \"fur\": \"Golden\",\n",
        "    \"clothes\": null, \n",
        "    \"diet\": [{\"zoo_animal\": \"Gazelle\", \"food\":\"grass\", \"fur\": \"Brown\"}]\n",
        "}\n",
        "\"\"\""
      ],
      "execution_count": 0,
      "outputs": []
    },
    {
      "metadata": {
        "id": "IAzfIHaRiQ86",
        "colab_type": "code",
        "colab": {}
      },
      "cell_type": "code",
      "source": [
        "import json"
      ],
      "execution_count": 0,
      "outputs": []
    },
    {
      "metadata": {
        "id": "WdOP_7KsiZLW",
        "colab_type": "code",
        "colab": {}
      },
      "cell_type": "code",
      "source": [
        "data = json.loads(json_obj)"
      ],
      "execution_count": 0,
      "outputs": []
    },
    {
      "metadata": {
        "id": "jpyotJcUidWv",
        "colab_type": "code",
        "colab": {
          "base_uri": "https://localhost:8080/",
          "height": 101
        },
        "outputId": "dc7dfe3a-201d-4c71-d56c-432a06d6921c"
      },
      "cell_type": "code",
      "source": [
        "data"
      ],
      "execution_count": 13,
      "outputs": [
        {
          "output_type": "execute_result",
          "data": {
            "text/plain": [
              "{'clothes': None,\n",
              " 'diet': [{'food': 'grass', 'fur': 'Brown', 'zoo_animal': 'Gazelle'}],\n",
              " 'food': ['Meat', 'Veggies', 'Honey'],\n",
              " 'fur': 'Golden',\n",
              " 'zoo_animal': 'Lion'}"
            ]
          },
          "metadata": {
            "tags": []
          },
          "execution_count": 13
        }
      ]
    },
    {
      "metadata": {
        "id": "p0EOlrCFieBD",
        "colab_type": "code",
        "colab": {
          "base_uri": "https://localhost:8080/",
          "height": 54
        },
        "outputId": "c5602465-b2c2-4888-a514-102d74c48497"
      },
      "cell_type": "code",
      "source": [
        "json.dumps(data)"
      ],
      "execution_count": 14,
      "outputs": [
        {
          "output_type": "execute_result",
          "data": {
            "text/plain": [
              "'{\"zoo_animal\": \"Lion\", \"food\": [\"Meat\", \"Veggies\", \"Honey\"], \"fur\": \"Golden\", \"clothes\": null, \"diet\": [{\"zoo_animal\": \"Gazelle\", \"food\": \"grass\", \"fur\": \"Brown\"}]}'"
            ]
          },
          "metadata": {
            "tags": []
          },
          "execution_count": 14
        }
      ]
    },
    {
      "metadata": {
        "id": "Fzbk4VJsimiY",
        "colab_type": "code",
        "colab": {}
      },
      "cell_type": "code",
      "source": [
        "json.dump(data, open('data.json','w'))"
      ],
      "execution_count": 0,
      "outputs": []
    },
    {
      "metadata": {
        "id": "us6xLVLkiti8",
        "colab_type": "code",
        "colab": {
          "base_uri": "https://localhost:8080/",
          "height": 54
        },
        "outputId": "bc1931bd-7539-45c1-e420-2155d0136d17"
      },
      "cell_type": "code",
      "source": [
        "!cat data.json"
      ],
      "execution_count": 16,
      "outputs": [
        {
          "output_type": "stream",
          "text": [
            "{\"zoo_animal\": \"Lion\", \"food\": [\"Meat\", \"Veggies\", \"Honey\"], \"fur\": \"Golden\", \"clothes\": null, \"diet\": [{\"zoo_animal\": \"Gazelle\", \"food\": \"grass\", \"fur\": \"Brown\"}]}"
          ],
          "name": "stdout"
        }
      ]
    },
    {
      "metadata": {
        "id": "-ydvz27-iu_8",
        "colab_type": "code",
        "colab": {
          "base_uri": "https://localhost:8080/",
          "height": 101
        },
        "outputId": "6e760140-0035-437f-df0f-f0d712732e2c"
      },
      "cell_type": "code",
      "source": [
        "json.load(open('data.json'))"
      ],
      "execution_count": 17,
      "outputs": [
        {
          "output_type": "execute_result",
          "data": {
            "text/plain": [
              "{'clothes': None,\n",
              " 'diet': [{'food': 'grass', 'fur': 'Brown', 'zoo_animal': 'Gazelle'}],\n",
              " 'food': ['Meat', 'Veggies', 'Honey'],\n",
              " 'fur': 'Golden',\n",
              " 'zoo_animal': 'Lion'}"
            ]
          },
          "metadata": {
            "tags": []
          },
          "execution_count": 17
        }
      ]
    },
    {
      "metadata": {
        "id": "Mqtwirkfi1Cw",
        "colab_type": "code",
        "colab": {}
      },
      "cell_type": "code",
      "source": [
        ""
      ],
      "execution_count": 0,
      "outputs": []
    }
  ]
}