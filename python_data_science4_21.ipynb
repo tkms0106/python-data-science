{
  "nbformat": 4,
  "nbformat_minor": 0,
  "metadata": {
    "colab": {
      "name": "python-data-science4-21.ipynb",
      "version": "0.3.2",
      "provenance": [],
      "include_colab_link": true
    },
    "kernelspec": {
      "name": "python3",
      "display_name": "Python 3"
    }
  },
  "cells": [
    {
      "cell_type": "markdown",
      "metadata": {
        "id": "view-in-github",
        "colab_type": "text"
      },
      "source": [
        "[View in Colaboratory](https://colab.research.google.com/github/tkms0106/python-data-science/blob/master/python_data_science4_21.ipynb)"
      ]
    },
    {
      "metadata": {
        "id": "AZyo8sh7bA7F",
        "colab_type": "code",
        "colab": {}
      },
      "cell_type": "code",
      "source": [
        "import numpy as np\n",
        "import pandas as pd\n",
        "from pandas import Series, DataFrame"
      ],
      "execution_count": 0,
      "outputs": []
    },
    {
      "metadata": {
        "id": "z4mcGPGfbIEd",
        "colab_type": "code",
        "colab": {}
      },
      "cell_type": "code",
      "source": [
        "ser1 = Series(range(3),index=['C','A','B'])"
      ],
      "execution_count": 0,
      "outputs": []
    },
    {
      "metadata": {
        "id": "7g7R0YmubN2N",
        "colab_type": "code",
        "colab": {
          "base_uri": "https://localhost:8080/",
          "height": 85
        },
        "outputId": "75aab8b6-bdf5-43a9-c27e-ac3db193705c"
      },
      "cell_type": "code",
      "source": [
        "ser1"
      ],
      "execution_count": 3,
      "outputs": [
        {
          "output_type": "execute_result",
          "data": {
            "text/plain": [
              "C    0\n",
              "A    1\n",
              "B    2\n",
              "dtype: int64"
            ]
          },
          "metadata": {
            "tags": []
          },
          "execution_count": 3
        }
      ]
    },
    {
      "metadata": {
        "id": "fgkcV2HTbOh5",
        "colab_type": "code",
        "colab": {
          "base_uri": "https://localhost:8080/",
          "height": 85
        },
        "outputId": "e99e104a-569e-4193-f552-082c25a29291"
      },
      "cell_type": "code",
      "source": [
        "ser1.sort_index()"
      ],
      "execution_count": 5,
      "outputs": [
        {
          "output_type": "execute_result",
          "data": {
            "text/plain": [
              "A    1\n",
              "B    2\n",
              "C    0\n",
              "dtype: int64"
            ]
          },
          "metadata": {
            "tags": []
          },
          "execution_count": 5
        }
      ]
    },
    {
      "metadata": {
        "id": "yhwUiqiQbQMl",
        "colab_type": "code",
        "colab": {
          "base_uri": "https://localhost:8080/",
          "height": 85
        },
        "outputId": "93f0d49d-ec71-4f32-eb5d-0efeb3c50578"
      },
      "cell_type": "code",
      "source": [
        "ser1"
      ],
      "execution_count": 6,
      "outputs": [
        {
          "output_type": "execute_result",
          "data": {
            "text/plain": [
              "C    0\n",
              "A    1\n",
              "B    2\n",
              "dtype: int64"
            ]
          },
          "metadata": {
            "tags": []
          },
          "execution_count": 6
        }
      ]
    },
    {
      "metadata": {
        "id": "G5sD0FAwbUqx",
        "colab_type": "code",
        "colab": {
          "base_uri": "https://localhost:8080/",
          "height": 254
        },
        "outputId": "b5c8d30f-549f-424b-a8df-f439f6e9ea7d"
      },
      "cell_type": "code",
      "source": [
        "# pandas 0.17.0以降 orderは使えなくなった\n",
        "!pip show pandas\n",
        "ser1.sort_values()"
      ],
      "execution_count": 11,
      "outputs": [
        {
          "output_type": "stream",
          "text": [
            "Name: pandas\r\n",
            "Version: 0.22.0\r\n",
            "Summary: Powerful data structures for data analysis, time series,and statistics\r\n",
            "Home-page: http://pandas.pydata.org\r\n",
            "Author: The PyData Development Team\r\n",
            "Author-email: pydata@googlegroups.com\r\n",
            "License: BSD\r\n",
            "Location: /usr/local/lib/python3.6/dist-packages\r\n",
            "Requires: pytz, python-dateutil, numpy\r\n",
            "Required-by: vega-datasets, statsmodels, pandas-gbq, altair\r\n"
          ],
          "name": "stdout"
        },
        {
          "output_type": "execute_result",
          "data": {
            "text/plain": [
              "C    0\n",
              "A    1\n",
              "B    2\n",
              "dtype: int64"
            ]
          },
          "metadata": {
            "tags": []
          },
          "execution_count": 11
        }
      ]
    },
    {
      "metadata": {
        "id": "vahpPqJEbWbV",
        "colab_type": "code",
        "colab": {}
      },
      "cell_type": "code",
      "source": [
        "from numpy.random import randn"
      ],
      "execution_count": 0,
      "outputs": []
    },
    {
      "metadata": {
        "id": "q5kqTbmZdMBI",
        "colab_type": "code",
        "colab": {}
      },
      "cell_type": "code",
      "source": [
        "ser2 = Series(randn(10))"
      ],
      "execution_count": 0,
      "outputs": []
    },
    {
      "metadata": {
        "id": "_17qhVNCdPWG",
        "colab_type": "code",
        "colab": {
          "base_uri": "https://localhost:8080/",
          "height": 203
        },
        "outputId": "c694782e-6d78-4d47-d92b-02653afa5298"
      },
      "cell_type": "code",
      "source": [
        "ser2"
      ],
      "execution_count": 14,
      "outputs": [
        {
          "output_type": "execute_result",
          "data": {
            "text/plain": [
              "0   -0.537512\n",
              "1    1.155839\n",
              "2   -0.860840\n",
              "3   -0.866827\n",
              "4    0.641113\n",
              "5   -0.422280\n",
              "6    0.791613\n",
              "7   -0.097488\n",
              "8    0.526042\n",
              "9    0.817544\n",
              "dtype: float64"
            ]
          },
          "metadata": {
            "tags": []
          },
          "execution_count": 14
        }
      ]
    },
    {
      "metadata": {
        "id": "AIcipVzSdQVC",
        "colab_type": "code",
        "colab": {
          "base_uri": "https://localhost:8080/",
          "height": 203
        },
        "outputId": "435adc3e-011b-459d-ef59-e9d78d30570a"
      },
      "cell_type": "code",
      "source": [
        "ser2.rank()"
      ],
      "execution_count": 15,
      "outputs": [
        {
          "output_type": "execute_result",
          "data": {
            "text/plain": [
              "0     3.0\n",
              "1    10.0\n",
              "2     2.0\n",
              "3     1.0\n",
              "4     7.0\n",
              "5     4.0\n",
              "6     8.0\n",
              "7     5.0\n",
              "8     6.0\n",
              "9     9.0\n",
              "dtype: float64"
            ]
          },
          "metadata": {
            "tags": []
          },
          "execution_count": 15
        }
      ]
    },
    {
      "metadata": {
        "id": "bWE1W0hidUMU",
        "colab_type": "code",
        "colab": {}
      },
      "cell_type": "code",
      "source": [
        "# pandas 0.17.0以降sortは使えなくなった\n",
        "ser2.sort_values(inplace=True)"
      ],
      "execution_count": 0,
      "outputs": []
    },
    {
      "metadata": {
        "id": "ZGg0kqBrdcaP",
        "colab_type": "code",
        "colab": {
          "base_uri": "https://localhost:8080/",
          "height": 203
        },
        "outputId": "54f09fe6-1d3d-40d3-f6c0-9bd2e89f1f18"
      },
      "cell_type": "code",
      "source": [
        "ser2"
      ],
      "execution_count": 19,
      "outputs": [
        {
          "output_type": "execute_result",
          "data": {
            "text/plain": [
              "3   -0.866827\n",
              "2   -0.860840\n",
              "0   -0.537512\n",
              "5   -0.422280\n",
              "7   -0.097488\n",
              "8    0.526042\n",
              "4    0.641113\n",
              "6    0.791613\n",
              "9    0.817544\n",
              "1    1.155839\n",
              "dtype: float64"
            ]
          },
          "metadata": {
            "tags": []
          },
          "execution_count": 19
        }
      ]
    },
    {
      "metadata": {
        "id": "njlqdIdafM3E",
        "colab_type": "code",
        "colab": {
          "base_uri": "https://localhost:8080/",
          "height": 203
        },
        "outputId": "192356e3-0e73-4564-a2d6-5263f423feca"
      },
      "cell_type": "code",
      "source": [
        "ser2.rank()"
      ],
      "execution_count": 20,
      "outputs": [
        {
          "output_type": "execute_result",
          "data": {
            "text/plain": [
              "3     1.0\n",
              "2     2.0\n",
              "0     3.0\n",
              "5     4.0\n",
              "7     5.0\n",
              "8     6.0\n",
              "4     7.0\n",
              "6     8.0\n",
              "9     9.0\n",
              "1    10.0\n",
              "dtype: float64"
            ]
          },
          "metadata": {
            "tags": []
          },
          "execution_count": 20
        }
      ]
    },
    {
      "metadata": {
        "id": "2JrMVIsRfRId",
        "colab_type": "code",
        "colab": {}
      },
      "cell_type": "code",
      "source": [
        ""
      ],
      "execution_count": 0,
      "outputs": []
    }
  ]
}