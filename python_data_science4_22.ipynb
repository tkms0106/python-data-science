{
  "nbformat": 4,
  "nbformat_minor": 0,
  "metadata": {
    "colab": {
      "name": "python-data-science4-22.ipynb",
      "version": "0.3.2",
      "provenance": [],
      "include_colab_link": true
    },
    "kernelspec": {
      "name": "python3",
      "display_name": "Python 3"
    }
  },
  "cells": [
    {
      "cell_type": "markdown",
      "metadata": {
        "id": "view-in-github",
        "colab_type": "text"
      },
      "source": [
        "[View in Colaboratory](https://colab.research.google.com/github/tkms0106/python-data-science/blob/master/python_data_science4_22.ipynb)"
      ]
    },
    {
      "metadata": {
        "id": "BR9IiaB8sS9M",
        "colab_type": "code",
        "colab": {}
      },
      "cell_type": "code",
      "source": [
        "import numpy as np\n",
        "from pandas import Series, DataFrame"
      ],
      "execution_count": 0,
      "outputs": []
    },
    {
      "metadata": {
        "id": "0C33Y3cDsbWk",
        "colab_type": "code",
        "colab": {}
      },
      "cell_type": "code",
      "source": [
        "import pandas as pd"
      ],
      "execution_count": 0,
      "outputs": []
    },
    {
      "metadata": {
        "id": "EskuSDcCseFp",
        "colab_type": "code",
        "colab": {}
      },
      "cell_type": "code",
      "source": [
        "arr = np.array([[1,2,np.nan], [np.nan,3,4]])"
      ],
      "execution_count": 0,
      "outputs": []
    },
    {
      "metadata": {
        "id": "Nv7mfnpjsj4d",
        "colab_type": "code",
        "colab": {
          "base_uri": "https://localhost:8080/",
          "height": 51
        },
        "outputId": "8f0d53b6-7acd-4352-bdaf-3dd1dfea50f0"
      },
      "cell_type": "code",
      "source": [
        "arr"
      ],
      "execution_count": 4,
      "outputs": [
        {
          "output_type": "execute_result",
          "data": {
            "text/plain": [
              "array([[ 1.,  2., nan],\n",
              "       [nan,  3.,  4.]])"
            ]
          },
          "metadata": {
            "tags": []
          },
          "execution_count": 4
        }
      ]
    },
    {
      "metadata": {
        "id": "DX7tQm3uskTP",
        "colab_type": "code",
        "colab": {}
      },
      "cell_type": "code",
      "source": [
        "dframe1 = DataFrame(arr, index=['A','B'], columns = ['One','Two','Three'])"
      ],
      "execution_count": 0,
      "outputs": []
    },
    {
      "metadata": {
        "id": "t4bHzi_4ss4z",
        "colab_type": "code",
        "colab": {
          "base_uri": "https://localhost:8080/",
          "height": 110
        },
        "outputId": "9e3ebbe8-9450-4615-cbb0-e3aefb4acbe0"
      },
      "cell_type": "code",
      "source": [
        "dframe1"
      ],
      "execution_count": 6,
      "outputs": [
        {
          "output_type": "execute_result",
          "data": {
            "text/html": [
              "<div>\n",
              "<style scoped>\n",
              "    .dataframe tbody tr th:only-of-type {\n",
              "        vertical-align: middle;\n",
              "    }\n",
              "\n",
              "    .dataframe tbody tr th {\n",
              "        vertical-align: top;\n",
              "    }\n",
              "\n",
              "    .dataframe thead th {\n",
              "        text-align: right;\n",
              "    }\n",
              "</style>\n",
              "<table border=\"1\" class=\"dataframe\">\n",
              "  <thead>\n",
              "    <tr style=\"text-align: right;\">\n",
              "      <th></th>\n",
              "      <th>One</th>\n",
              "      <th>Two</th>\n",
              "      <th>Three</th>\n",
              "    </tr>\n",
              "  </thead>\n",
              "  <tbody>\n",
              "    <tr>\n",
              "      <th>A</th>\n",
              "      <td>1.0</td>\n",
              "      <td>2.0</td>\n",
              "      <td>NaN</td>\n",
              "    </tr>\n",
              "    <tr>\n",
              "      <th>B</th>\n",
              "      <td>NaN</td>\n",
              "      <td>3.0</td>\n",
              "      <td>4.0</td>\n",
              "    </tr>\n",
              "  </tbody>\n",
              "</table>\n",
              "</div>"
            ],
            "text/plain": [
              "   One  Two  Three\n",
              "A  1.0  2.0    NaN\n",
              "B  NaN  3.0    4.0"
            ]
          },
          "metadata": {
            "tags": []
          },
          "execution_count": 6
        }
      ]
    },
    {
      "metadata": {
        "id": "5erUWXmhstsD",
        "colab_type": "code",
        "colab": {
          "base_uri": "https://localhost:8080/",
          "height": 85
        },
        "outputId": "99d02ebf-c2da-4973-afe9-5e717c860d93"
      },
      "cell_type": "code",
      "source": [
        "dframe1.sum()"
      ],
      "execution_count": 8,
      "outputs": [
        {
          "output_type": "execute_result",
          "data": {
            "text/plain": [
              "One      1.0\n",
              "Two      5.0\n",
              "Three    4.0\n",
              "dtype: float64"
            ]
          },
          "metadata": {
            "tags": []
          },
          "execution_count": 8
        }
      ]
    },
    {
      "metadata": {
        "id": "6slO2FMoswaR",
        "colab_type": "code",
        "colab": {
          "base_uri": "https://localhost:8080/",
          "height": 68
        },
        "outputId": "0594a2f4-25b8-492a-b950-1f3d884c33d3"
      },
      "cell_type": "code",
      "source": [
        "dframe1.sum(axis=1)"
      ],
      "execution_count": 9,
      "outputs": [
        {
          "output_type": "execute_result",
          "data": {
            "text/plain": [
              "A    3.0\n",
              "B    7.0\n",
              "dtype: float64"
            ]
          },
          "metadata": {
            "tags": []
          },
          "execution_count": 9
        }
      ]
    },
    {
      "metadata": {
        "id": "p836TF9Rs2X6",
        "colab_type": "code",
        "colab": {
          "base_uri": "https://localhost:8080/",
          "height": 85
        },
        "outputId": "e6054724-b766-43d6-fc11-3565ec5aecff"
      },
      "cell_type": "code",
      "source": [
        "dframe1.min()"
      ],
      "execution_count": 10,
      "outputs": [
        {
          "output_type": "execute_result",
          "data": {
            "text/plain": [
              "One      1.0\n",
              "Two      2.0\n",
              "Three    4.0\n",
              "dtype: float64"
            ]
          },
          "metadata": {
            "tags": []
          },
          "execution_count": 10
        }
      ]
    },
    {
      "metadata": {
        "id": "YM-eMLIBtAre",
        "colab_type": "code",
        "colab": {
          "base_uri": "https://localhost:8080/",
          "height": 85
        },
        "outputId": "f2393725-f6d8-42c8-d5bd-252be96d7155"
      },
      "cell_type": "code",
      "source": [
        "dframe1.idxmin()"
      ],
      "execution_count": 11,
      "outputs": [
        {
          "output_type": "execute_result",
          "data": {
            "text/plain": [
              "One      A\n",
              "Two      A\n",
              "Three    B\n",
              "dtype: object"
            ]
          },
          "metadata": {
            "tags": []
          },
          "execution_count": 11
        }
      ]
    },
    {
      "metadata": {
        "id": "vyN5BVsdtJQy",
        "colab_type": "code",
        "colab": {
          "base_uri": "https://localhost:8080/",
          "height": 110
        },
        "outputId": "eaed1726-e8e6-4deb-ca43-33cbfdb7ed6d"
      },
      "cell_type": "code",
      "source": [
        "dframe1.cumsum()"
      ],
      "execution_count": 12,
      "outputs": [
        {
          "output_type": "execute_result",
          "data": {
            "text/html": [
              "<div>\n",
              "<style scoped>\n",
              "    .dataframe tbody tr th:only-of-type {\n",
              "        vertical-align: middle;\n",
              "    }\n",
              "\n",
              "    .dataframe tbody tr th {\n",
              "        vertical-align: top;\n",
              "    }\n",
              "\n",
              "    .dataframe thead th {\n",
              "        text-align: right;\n",
              "    }\n",
              "</style>\n",
              "<table border=\"1\" class=\"dataframe\">\n",
              "  <thead>\n",
              "    <tr style=\"text-align: right;\">\n",
              "      <th></th>\n",
              "      <th>One</th>\n",
              "      <th>Two</th>\n",
              "      <th>Three</th>\n",
              "    </tr>\n",
              "  </thead>\n",
              "  <tbody>\n",
              "    <tr>\n",
              "      <th>A</th>\n",
              "      <td>1.0</td>\n",
              "      <td>2.0</td>\n",
              "      <td>NaN</td>\n",
              "    </tr>\n",
              "    <tr>\n",
              "      <th>B</th>\n",
              "      <td>NaN</td>\n",
              "      <td>5.0</td>\n",
              "      <td>4.0</td>\n",
              "    </tr>\n",
              "  </tbody>\n",
              "</table>\n",
              "</div>"
            ],
            "text/plain": [
              "   One  Two  Three\n",
              "A  1.0  2.0    NaN\n",
              "B  NaN  5.0    4.0"
            ]
          },
          "metadata": {
            "tags": []
          },
          "execution_count": 12
        }
      ]
    },
    {
      "metadata": {
        "id": "25Jr7j-stUZZ",
        "colab_type": "code",
        "colab": {
          "base_uri": "https://localhost:8080/",
          "height": 295
        },
        "outputId": "047cc4aa-7733-4734-c6ce-179c566422aa"
      },
      "cell_type": "code",
      "source": [
        "dframe1.describe()"
      ],
      "execution_count": 13,
      "outputs": [
        {
          "output_type": "execute_result",
          "data": {
            "text/html": [
              "<div>\n",
              "<style scoped>\n",
              "    .dataframe tbody tr th:only-of-type {\n",
              "        vertical-align: middle;\n",
              "    }\n",
              "\n",
              "    .dataframe tbody tr th {\n",
              "        vertical-align: top;\n",
              "    }\n",
              "\n",
              "    .dataframe thead th {\n",
              "        text-align: right;\n",
              "    }\n",
              "</style>\n",
              "<table border=\"1\" class=\"dataframe\">\n",
              "  <thead>\n",
              "    <tr style=\"text-align: right;\">\n",
              "      <th></th>\n",
              "      <th>One</th>\n",
              "      <th>Two</th>\n",
              "      <th>Three</th>\n",
              "    </tr>\n",
              "  </thead>\n",
              "  <tbody>\n",
              "    <tr>\n",
              "      <th>count</th>\n",
              "      <td>1.0</td>\n",
              "      <td>2.000000</td>\n",
              "      <td>1.0</td>\n",
              "    </tr>\n",
              "    <tr>\n",
              "      <th>mean</th>\n",
              "      <td>1.0</td>\n",
              "      <td>2.500000</td>\n",
              "      <td>4.0</td>\n",
              "    </tr>\n",
              "    <tr>\n",
              "      <th>std</th>\n",
              "      <td>NaN</td>\n",
              "      <td>0.707107</td>\n",
              "      <td>NaN</td>\n",
              "    </tr>\n",
              "    <tr>\n",
              "      <th>min</th>\n",
              "      <td>1.0</td>\n",
              "      <td>2.000000</td>\n",
              "      <td>4.0</td>\n",
              "    </tr>\n",
              "    <tr>\n",
              "      <th>25%</th>\n",
              "      <td>1.0</td>\n",
              "      <td>2.250000</td>\n",
              "      <td>4.0</td>\n",
              "    </tr>\n",
              "    <tr>\n",
              "      <th>50%</th>\n",
              "      <td>1.0</td>\n",
              "      <td>2.500000</td>\n",
              "      <td>4.0</td>\n",
              "    </tr>\n",
              "    <tr>\n",
              "      <th>75%</th>\n",
              "      <td>1.0</td>\n",
              "      <td>2.750000</td>\n",
              "      <td>4.0</td>\n",
              "    </tr>\n",
              "    <tr>\n",
              "      <th>max</th>\n",
              "      <td>1.0</td>\n",
              "      <td>3.000000</td>\n",
              "      <td>4.0</td>\n",
              "    </tr>\n",
              "  </tbody>\n",
              "</table>\n",
              "</div>"
            ],
            "text/plain": [
              "       One       Two  Three\n",
              "count  1.0  2.000000    1.0\n",
              "mean   1.0  2.500000    4.0\n",
              "std    NaN  0.707107    NaN\n",
              "min    1.0  2.000000    4.0\n",
              "25%    1.0  2.250000    4.0\n",
              "50%    1.0  2.500000    4.0\n",
              "75%    1.0  2.750000    4.0\n",
              "max    1.0  3.000000    4.0"
            ]
          },
          "metadata": {
            "tags": []
          },
          "execution_count": 13
        }
      ]
    },
    {
      "metadata": {
        "id": "IS7wJWPrtc2r",
        "colab_type": "code",
        "colab": {
          "base_uri": "https://localhost:8080/",
          "height": 545
        },
        "outputId": "25dcb66d-3e6f-4fb6-aa07-b7e395db6833"
      },
      "cell_type": "code",
      "source": [
        "!pip install pandas_datareader\n",
        "import pandas_datareader as pdr"
      ],
      "execution_count": 16,
      "outputs": [
        {
          "output_type": "stream",
          "text": [
            "Collecting pandas_datareader\n",
            "\u001b[?25l  Downloading https://files.pythonhosted.org/packages/be/76/639c60ede26458dadf76bacaa9cbcc76f8cc5082fb2b2d90d0a90c699d36/pandas_datareader-0.6.0-py2.py3-none-any.whl (103kB)\n",
            "\u001b[K    100% |████████████████████████████████| 112kB 4.6MB/s \n",
            "\u001b[?25hCollecting lxml (from pandas_datareader)\n",
            "\u001b[?25l  Downloading https://files.pythonhosted.org/packages/eb/59/1db3c9c27049e4f832691c6d642df1f5b64763f73942172c44fee22de397/lxml-4.2.4-cp36-cp36m-manylinux1_x86_64.whl (5.8MB)\n",
            "\u001b[K    100% |████████████████████████████████| 5.8MB 4.6MB/s \n",
            "\u001b[?25hRequirement already satisfied: pandas>=0.19.2 in /usr/local/lib/python3.6/dist-packages (from pandas_datareader) (0.22.0)\n",
            "Requirement already satisfied: requests>=2.3.0 in /usr/local/lib/python3.6/dist-packages (from pandas_datareader) (2.18.4)\n",
            "Collecting wrapt (from pandas_datareader)\n",
            "  Downloading https://files.pythonhosted.org/packages/a0/47/66897906448185fcb77fc3c2b1bc20ed0ecca81a0f2f88eda3fc5a34fc3d/wrapt-1.10.11.tar.gz\n",
            "Collecting requests-file (from pandas_datareader)\n",
            "  Downloading https://files.pythonhosted.org/packages/23/9c/6e63c23c39e53d3df41c77a3d05a49a42c4e1383a6d2a5e3233161b89dbf/requests_file-1.4.3-py2.py3-none-any.whl\n",
            "Collecting requests-ftp (from pandas_datareader)\n",
            "  Downloading https://files.pythonhosted.org/packages/3d/ca/14b2ad1e93b5195eeaf56b86b7ecfd5ea2d5754a68d17aeb1e5b9f95b3cf/requests-ftp-0.3.1.tar.gz\n",
            "Requirement already satisfied: python-dateutil>=2 in /usr/local/lib/python3.6/dist-packages (from pandas>=0.19.2->pandas_datareader) (2.5.3)\n",
            "Requirement already satisfied: numpy>=1.9.0 in /usr/local/lib/python3.6/dist-packages (from pandas>=0.19.2->pandas_datareader) (1.14.5)\n",
            "Requirement already satisfied: pytz>=2011k in /usr/local/lib/python3.6/dist-packages (from pandas>=0.19.2->pandas_datareader) (2018.5)\n",
            "Requirement already satisfied: certifi>=2017.4.17 in /usr/local/lib/python3.6/dist-packages (from requests>=2.3.0->pandas_datareader) (2018.8.13)\n",
            "Requirement already satisfied: chardet<3.1.0,>=3.0.2 in /usr/local/lib/python3.6/dist-packages (from requests>=2.3.0->pandas_datareader) (3.0.4)\n",
            "Requirement already satisfied: idna<2.7,>=2.5 in /usr/local/lib/python3.6/dist-packages (from requests>=2.3.0->pandas_datareader) (2.6)\n",
            "Requirement already satisfied: urllib3<1.23,>=1.21.1 in /usr/local/lib/python3.6/dist-packages (from requests>=2.3.0->pandas_datareader) (1.22)\n",
            "Requirement already satisfied: six in /usr/local/lib/python3.6/dist-packages (from requests-file->pandas_datareader) (1.11.0)\n",
            "Building wheels for collected packages: wrapt, requests-ftp\n",
            "  Running setup.py bdist_wheel for wrapt ... \u001b[?25l-\b \b\\\b \bdone\n",
            "\u001b[?25h  Stored in directory: /root/.cache/pip/wheels/48/5d/04/22361a593e70d23b1f7746d932802efe1f0e523376a74f321e\n",
            "  Running setup.py bdist_wheel for requests-ftp ... \u001b[?25l-\b \bdone\n",
            "\u001b[?25h  Stored in directory: /root/.cache/pip/wheels/2a/98/32/37195e45a3392a73d9f65c488cbea30fe5bad76aaef4d6b020\n",
            "Successfully built wrapt requests-ftp\n",
            "Installing collected packages: lxml, wrapt, requests-file, requests-ftp, pandas-datareader\n",
            "Successfully installed lxml-4.2.4 pandas-datareader-0.6.0 requests-file-1.4.3 requests-ftp-0.3.1 wrapt-1.10.11\n"
          ],
          "name": "stdout"
        }
      ]
    },
    {
      "metadata": {
        "id": "ST9gBXfNt0_s",
        "colab_type": "code",
        "colab": {}
      },
      "cell_type": "code",
      "source": [
        "import datetime"
      ],
      "execution_count": 0,
      "outputs": []
    },
    {
      "metadata": {
        "id": "96tUvxqNuqz7",
        "colab_type": "code",
        "colab": {}
      },
      "cell_type": "code",
      "source": [
        "end = datetime.datetime.now()"
      ],
      "execution_count": 0,
      "outputs": []
    },
    {
      "metadata": {
        "id": "5Dc6HAoduuHX",
        "colab_type": "code",
        "colab": {}
      },
      "cell_type": "code",
      "source": [
        "start = datetime.datetime(end.year-1, end.month, end.day)"
      ],
      "execution_count": 0,
      "outputs": []
    },
    {
      "metadata": {
        "id": "rR-zjcQhuwYb",
        "colab_type": "code",
        "colab": {}
      },
      "cell_type": "code",
      "source": [
        "tech_list = ['AAPL','GOOG','MSFT','AMZN']\n",
        "for stock in tech_list:\n",
        "  temp = pdr.DataReader(stock,'robinhood',start,end)\n",
        "  globals()[stock] = temp.drop(['session','interpolated'],axis=1).astype('float64')"
      ],
      "execution_count": 0,
      "outputs": []
    },
    {
      "metadata": {
        "id": "GY095reC3jlL",
        "colab_type": "code",
        "colab": {
          "base_uri": "https://localhost:8080/",
          "height": 289
        },
        "outputId": "6eb3192e-13a2-47eb-8343-2e0ba9f6ebbd"
      },
      "cell_type": "code",
      "source": [
        "%matplotlib inline\n",
        "AAPL['close_price'].plot()\n",
        "GOOG['close_price'].plot()\n",
        "MSFT['close_price'].plot()\n",
        "AMZN['close_price'].plot()"
      ],
      "execution_count": 85,
      "outputs": [
        {
          "output_type": "execute_result",
          "data": {
            "text/plain": [
              "<matplotlib.axes._subplots.AxesSubplot at 0x7f31befd45c0>"
            ]
          },
          "metadata": {
            "tags": []
          },
          "execution_count": 85
        },
        {
          "output_type": "display_data",
          "data": {
            "image/png": "[encoded data removed]",
            "text/plain": [
              "<matplotlib.figure.Figure at 0x7f31bf055c88>"
            ]
          },
          "metadata": {
            "tags": []
          }
        }
      ]
    },
    {
      "metadata": {
        "id": "eYg1hUur5Z5k",
        "colab_type": "code",
        "colab": {}
      },
      "cell_type": "code",
      "source": [
        "rets = AAPL['close_price'].pct_change()"
      ],
      "execution_count": 0,
      "outputs": []
    },
    {
      "metadata": {
        "id": "CIq4GFqv5xfi",
        "colab_type": "code",
        "colab": {
          "base_uri": "https://localhost:8080/",
          "height": 233
        },
        "outputId": "71e718cd-6746-43cf-c5bc-3d811bb619ec"
      },
      "cell_type": "code",
      "source": [
        "DataFrame(rets.head())"
      ],
      "execution_count": 82,
      "outputs": [
        {
          "output_type": "execute_result",
          "data": {
            "text/html": [
              "<div>\n",
              "<style scoped>\n",
              "    .dataframe tbody tr th:only-of-type {\n",
              "        vertical-align: middle;\n",
              "    }\n",
              "\n",
              "    .dataframe tbody tr th {\n",
              "        vertical-align: top;\n",
              "    }\n",
              "\n",
              "    .dataframe thead th {\n",
              "        text-align: right;\n",
              "    }\n",
              "</style>\n",
              "<table border=\"1\" class=\"dataframe\">\n",
              "  <thead>\n",
              "    <tr style=\"text-align: right;\">\n",
              "      <th></th>\n",
              "      <th></th>\n",
              "      <th>close_price</th>\n",
              "    </tr>\n",
              "    <tr>\n",
              "      <th>symbol</th>\n",
              "      <th>begins_at</th>\n",
              "      <th></th>\n",
              "    </tr>\n",
              "  </thead>\n",
              "  <tbody>\n",
              "    <tr>\n",
              "      <th rowspan=\"5\" valign=\"top\">AAPL</th>\n",
              "      <th>2017-08-23</th>\n",
              "      <td>NaN</td>\n",
              "    </tr>\n",
              "    <tr>\n",
              "      <th>2017-08-24</th>\n",
              "      <td>-0.004438</td>\n",
              "    </tr>\n",
              "    <tr>\n",
              "      <th>2017-08-25</th>\n",
              "      <td>0.003704</td>\n",
              "    </tr>\n",
              "    <tr>\n",
              "      <th>2017-08-28</th>\n",
              "      <td>0.010071</td>\n",
              "    </tr>\n",
              "    <tr>\n",
              "      <th>2017-08-29</th>\n",
              "      <td>0.008918</td>\n",
              "    </tr>\n",
              "  </tbody>\n",
              "</table>\n",
              "</div>"
            ],
            "text/plain": [
              "                   close_price\n",
              "symbol begins_at              \n",
              "AAPL   2017-08-23          NaN\n",
              "       2017-08-24    -0.004438\n",
              "       2017-08-25     0.003704\n",
              "       2017-08-28     0.010071\n",
              "       2017-08-29     0.008918"
            ]
          },
          "metadata": {
            "tags": []
          },
          "execution_count": 82
        }
      ]
    },
    {
      "metadata": {
        "id": "KSjH7A2F5zX-",
        "colab_type": "code",
        "colab": {}
      },
      "cell_type": "code",
      "source": [
        "frame = DataFrame({\n",
        "                  'AAPL':list(AAPL['close_price'].reset_index().drop(['symbol','begins_at'],axis=1)['close_price'].values.tolist()),\n",
        "                  'GOOG':GOOG['close_price'].reset_index().drop(['symbol','begins_at'],axis=1)['close_price'].values.tolist(),\n",
        "                  'MSFT':MSFT['close_price'].reset_index().drop(['symbol','begins_at'],axis=1)['close_price'].values.tolist(),\n",
        "                  'AMZN':AMZN['close_price'].reset_index().drop(['symbol','begins_at'],axis=1)['close_price'].values.tolist()\n",
        "                  },\n",
        "                  index=range(AAPL['close_price'].size))"
      ],
      "execution_count": 0,
      "outputs": []
    },
    {
      "metadata": {
        "id": "agUau6aV6e5j",
        "colab_type": "code",
        "colab": {
          "base_uri": "https://localhost:8080/",
          "height": 1955
        },
        "outputId": "02398c98-d1f2-48ba-cc02-a02c39d2ccbe"
      },
      "cell_type": "code",
      "source": [
        "frame"
      ],
      "execution_count": 165,
      "outputs": [
        {
          "output_type": "execute_result",
          "data": {
            "text/html": [
              "<div>\n",
              "<style scoped>\n",
              "    .dataframe tbody tr th:only-of-type {\n",
              "        vertical-align: middle;\n",
              "    }\n",
              "\n",
              "    .dataframe tbody tr th {\n",
              "        vertical-align: top;\n",
              "    }\n",
              "\n",
              "    .dataframe thead th {\n",
              "        text-align: right;\n",
              "    }\n",
              "</style>\n",
              "<table border=\"1\" class=\"dataframe\">\n",
              "  <thead>\n",
              "    <tr style=\"text-align: right;\">\n",
              "      <th></th>\n",
              "      <th>AAPL</th>\n",
              "      <th>AMZN</th>\n",
              "      <th>GOOG</th>\n",
              "      <th>MSFT</th>\n",
              "    </tr>\n",
              "  </thead>\n",
              "  <tbody>\n",
              "    <tr>\n",
              "      <th>0</th>\n",
              "      <td>157.5971</td>\n",
              "      <td>958.00</td>\n",
              "      <td>927.00</td>\n",
              "      <td>71.4326</td>\n",
              "    </tr>\n",
              "    <tr>\n",
              "      <th>1</th>\n",
              "      <td>156.8977</td>\n",
              "      <td>952.45</td>\n",
              "      <td>921.28</td>\n",
              "      <td>71.4031</td>\n",
              "    </tr>\n",
              "    <tr>\n",
              "      <th>2</th>\n",
              "      <td>157.4789</td>\n",
              "      <td>945.26</td>\n",
              "      <td>915.89</td>\n",
              "      <td>71.5308</td>\n",
              "    </tr>\n",
              "    <tr>\n",
              "      <th>3</th>\n",
              "      <td>159.0649</td>\n",
              "      <td>946.02</td>\n",
              "      <td>913.81</td>\n",
              "      <td>71.5407</td>\n",
              "    </tr>\n",
              "    <tr>\n",
              "      <th>4</th>\n",
              "      <td>160.4835</td>\n",
              "      <td>954.06</td>\n",
              "      <td>921.29</td>\n",
              "      <td>71.7568</td>\n",
              "    </tr>\n",
              "    <tr>\n",
              "      <th>5</th>\n",
              "      <td>160.9169</td>\n",
              "      <td>967.59</td>\n",
              "      <td>929.57</td>\n",
              "      <td>72.6998</td>\n",
              "    </tr>\n",
              "    <tr>\n",
              "      <th>6</th>\n",
              "      <td>161.5572</td>\n",
              "      <td>980.60</td>\n",
              "      <td>939.33</td>\n",
              "      <td>73.4463</td>\n",
              "    </tr>\n",
              "    <tr>\n",
              "      <th>7</th>\n",
              "      <td>161.6065</td>\n",
              "      <td>978.25</td>\n",
              "      <td>937.34</td>\n",
              "      <td>72.6310</td>\n",
              "    </tr>\n",
              "    <tr>\n",
              "      <th>8</th>\n",
              "      <td>159.6658</td>\n",
              "      <td>965.27</td>\n",
              "      <td>928.45</td>\n",
              "      <td>72.3069</td>\n",
              "    </tr>\n",
              "    <tr>\n",
              "      <th>9</th>\n",
              "      <td>159.4984</td>\n",
              "      <td>967.80</td>\n",
              "      <td>927.81</td>\n",
              "      <td>72.1006</td>\n",
              "    </tr>\n",
              "    <tr>\n",
              "      <th>10</th>\n",
              "      <td>158.8581</td>\n",
              "      <td>979.47</td>\n",
              "      <td>935.95</td>\n",
              "      <td>73.0239</td>\n",
              "    </tr>\n",
              "    <tr>\n",
              "      <th>11</th>\n",
              "      <td>156.2672</td>\n",
              "      <td>965.90</td>\n",
              "      <td>926.50</td>\n",
              "      <td>72.6703</td>\n",
              "    </tr>\n",
              "    <tr>\n",
              "      <th>12</th>\n",
              "      <td>159.0945</td>\n",
              "      <td>977.96</td>\n",
              "      <td>929.08</td>\n",
              "      <td>73.4365</td>\n",
              "    </tr>\n",
              "    <tr>\n",
              "      <th>13</th>\n",
              "      <td>158.4640</td>\n",
              "      <td>982.58</td>\n",
              "      <td>932.07</td>\n",
              "      <td>73.3579</td>\n",
              "    </tr>\n",
              "    <tr>\n",
              "      <th>14</th>\n",
              "      <td>157.2720</td>\n",
              "      <td>999.60</td>\n",
              "      <td>935.09</td>\n",
              "      <td>73.8785</td>\n",
              "    </tr>\n",
              "    <tr>\n",
              "      <th>15</th>\n",
              "      <td>155.9224</td>\n",
              "      <td>992.21</td>\n",
              "      <td>925.11</td>\n",
              "      <td>73.4463</td>\n",
              "    </tr>\n",
              "    <tr>\n",
              "      <th>16</th>\n",
              "      <td>157.4986</td>\n",
              "      <td>986.79</td>\n",
              "      <td>920.29</td>\n",
              "      <td>73.9768</td>\n",
              "    </tr>\n",
              "    <tr>\n",
              "      <th>17</th>\n",
              "      <td>156.3066</td>\n",
              "      <td>974.19</td>\n",
              "      <td>915.00</td>\n",
              "      <td>73.8294</td>\n",
              "    </tr>\n",
              "    <tr>\n",
              "      <th>18</th>\n",
              "      <td>156.3657</td>\n",
              "      <td>969.86</td>\n",
              "      <td>921.81</td>\n",
              "      <td>74.1045</td>\n",
              "    </tr>\n",
              "    <tr>\n",
              "      <th>19</th>\n",
              "      <td>153.7454</td>\n",
              "      <td>973.21</td>\n",
              "      <td>931.58</td>\n",
              "      <td>73.6133</td>\n",
              "    </tr>\n",
              "    <tr>\n",
              "      <th>20</th>\n",
              "      <td>151.1053</td>\n",
              "      <td>964.65</td>\n",
              "      <td>932.45</td>\n",
              "      <td>72.8962</td>\n",
              "    </tr>\n",
              "    <tr>\n",
              "      <th>21</th>\n",
              "      <td>149.6276</td>\n",
              "      <td>955.10</td>\n",
              "      <td>928.53</td>\n",
              "      <td>73.0927</td>\n",
              "    </tr>\n",
              "    <tr>\n",
              "      <th>22</th>\n",
              "      <td>148.3076</td>\n",
              "      <td>939.79</td>\n",
              "      <td>920.97</td>\n",
              "      <td>71.9631</td>\n",
              "    </tr>\n",
              "    <tr>\n",
              "      <th>23</th>\n",
              "      <td>150.8590</td>\n",
              "      <td>938.60</td>\n",
              "      <td>924.86</td>\n",
              "      <td>71.9631</td>\n",
              "    </tr>\n",
              "    <tr>\n",
              "      <th>24</th>\n",
              "      <td>151.9328</td>\n",
              "      <td>950.87</td>\n",
              "      <td>944.49</td>\n",
              "      <td>72.5426</td>\n",
              "    </tr>\n",
              "    <tr>\n",
              "      <th>25</th>\n",
              "      <td>150.9969</td>\n",
              "      <td>956.40</td>\n",
              "      <td>949.50</td>\n",
              "      <td>72.5623</td>\n",
              "    </tr>\n",
              "    <tr>\n",
              "      <th>26</th>\n",
              "      <td>151.8244</td>\n",
              "      <td>961.35</td>\n",
              "      <td>959.11</td>\n",
              "      <td>73.1713</td>\n",
              "    </tr>\n",
              "    <tr>\n",
              "      <th>27</th>\n",
              "      <td>151.5190</td>\n",
              "      <td>959.19</td>\n",
              "      <td>953.27</td>\n",
              "      <td>73.2892</td>\n",
              "    </tr>\n",
              "    <tr>\n",
              "      <th>28</th>\n",
              "      <td>152.1790</td>\n",
              "      <td>957.10</td>\n",
              "      <td>957.79</td>\n",
              "      <td>72.9454</td>\n",
              "    </tr>\n",
              "    <tr>\n",
              "      <th>29</th>\n",
              "      <td>151.1939</td>\n",
              "      <td>965.45</td>\n",
              "      <td>951.68</td>\n",
              "      <td>73.3677</td>\n",
              "    </tr>\n",
              "    <tr>\n",
              "      <th>...</th>\n",
              "      <td>...</td>\n",
              "      <td>...</td>\n",
              "      <td>...</td>\n",
              "      <td>...</td>\n",
              "    </tr>\n",
              "    <tr>\n",
              "      <th>222</th>\n",
              "      <td>190.3624</td>\n",
              "      <td>1796.62</td>\n",
              "      <td>1183.48</td>\n",
              "      <td>103.7906</td>\n",
              "    </tr>\n",
              "    <tr>\n",
              "      <th>223</th>\n",
              "      <td>190.6613</td>\n",
              "      <td>1813.03</td>\n",
              "      <td>1188.82</td>\n",
              "      <td>105.0258</td>\n",
              "    </tr>\n",
              "    <tr>\n",
              "      <th>224</th>\n",
              "      <td>190.2428</td>\n",
              "      <td>1822.49</td>\n",
              "      <td>1183.86</td>\n",
              "      <td>104.5078</td>\n",
              "    </tr>\n",
              "    <tr>\n",
              "      <th>225</th>\n",
              "      <td>190.7809</td>\n",
              "      <td>1843.93</td>\n",
              "      <td>1198.80</td>\n",
              "      <td>105.5438</td>\n",
              "    </tr>\n",
              "    <tr>\n",
              "      <th>226</th>\n",
              "      <td>189.7346</td>\n",
              "      <td>1842.92</td>\n",
              "      <td>1195.88</td>\n",
              "      <td>104.7170</td>\n",
              "    </tr>\n",
              "    <tr>\n",
              "      <th>227</th>\n",
              "      <td>191.2094</td>\n",
              "      <td>1812.97</td>\n",
              "      <td>1186.96</td>\n",
              "      <td>103.9998</td>\n",
              "    </tr>\n",
              "    <tr>\n",
              "      <th>228</th>\n",
              "      <td>190.7709</td>\n",
              "      <td>1813.70</td>\n",
              "      <td>1184.91</td>\n",
              "      <td>105.8626</td>\n",
              "    </tr>\n",
              "    <tr>\n",
              "      <th>229</th>\n",
              "      <td>190.9404</td>\n",
              "      <td>1802.00</td>\n",
              "      <td>1205.50</td>\n",
              "      <td>107.5561</td>\n",
              "    </tr>\n",
              "    <tr>\n",
              "      <th>230</th>\n",
              "      <td>192.3255</td>\n",
              "      <td>1829.24</td>\n",
              "      <td>1248.08</td>\n",
              "      <td>107.2473</td>\n",
              "    </tr>\n",
              "    <tr>\n",
              "      <th>231</th>\n",
              "      <td>194.1391</td>\n",
              "      <td>1863.61</td>\n",
              "      <td>1263.70</td>\n",
              "      <td>110.4051</td>\n",
              "    </tr>\n",
              "    <tr>\n",
              "      <th>232</th>\n",
              "      <td>193.5313</td>\n",
              "      <td>1808.00</td>\n",
              "      <td>1268.33</td>\n",
              "      <td>109.1998</td>\n",
              "    </tr>\n",
              "    <tr>\n",
              "      <th>233</th>\n",
              "      <td>190.3126</td>\n",
              "      <td>1817.27</td>\n",
              "      <td>1238.50</td>\n",
              "      <td>107.2672</td>\n",
              "    </tr>\n",
              "    <tr>\n",
              "      <th>234</th>\n",
              "      <td>189.2463</td>\n",
              "      <td>1779.22</td>\n",
              "      <td>1219.74</td>\n",
              "      <td>104.9661</td>\n",
              "    </tr>\n",
              "    <tr>\n",
              "      <th>235</th>\n",
              "      <td>189.6250</td>\n",
              "      <td>1777.44</td>\n",
              "      <td>1217.26</td>\n",
              "      <td>105.6733</td>\n",
              "    </tr>\n",
              "    <tr>\n",
              "      <th>236</th>\n",
              "      <td>200.7958</td>\n",
              "      <td>1797.17</td>\n",
              "      <td>1220.01</td>\n",
              "      <td>105.8726</td>\n",
              "    </tr>\n",
              "    <tr>\n",
              "      <th>237</th>\n",
              "      <td>206.6652</td>\n",
              "      <td>1834.33</td>\n",
              "      <td>1226.15</td>\n",
              "      <td>107.1576</td>\n",
              "    </tr>\n",
              "    <tr>\n",
              "      <th>238</th>\n",
              "      <td>207.2631</td>\n",
              "      <td>1823.29</td>\n",
              "      <td>1223.71</td>\n",
              "      <td>107.6258</td>\n",
              "    </tr>\n",
              "    <tr>\n",
              "      <th>239</th>\n",
              "      <td>208.3393</td>\n",
              "      <td>1847.75</td>\n",
              "      <td>1224.77</td>\n",
              "      <td>107.7155</td>\n",
              "    </tr>\n",
              "    <tr>\n",
              "      <th>240</th>\n",
              "      <td>206.3862</td>\n",
              "      <td>1862.48</td>\n",
              "      <td>1242.22</td>\n",
              "      <td>108.4626</td>\n",
              "    </tr>\n",
              "    <tr>\n",
              "      <th>241</th>\n",
              "      <td>206.5257</td>\n",
              "      <td>1886.52</td>\n",
              "      <td>1245.61</td>\n",
              "      <td>109.0703</td>\n",
              "    </tr>\n",
              "    <tr>\n",
              "      <th>242</th>\n",
              "      <td>208.1500</td>\n",
              "      <td>1898.52</td>\n",
              "      <td>1249.10</td>\n",
              "      <td>109.2496</td>\n",
              "    </tr>\n",
              "    <tr>\n",
              "      <th>243</th>\n",
              "      <td>207.5300</td>\n",
              "      <td>1886.30</td>\n",
              "      <td>1237.61</td>\n",
              "      <td>108.5821</td>\n",
              "    </tr>\n",
              "    <tr>\n",
              "      <th>244</th>\n",
              "      <td>208.8700</td>\n",
              "      <td>1896.20</td>\n",
              "      <td>1235.01</td>\n",
              "      <td>107.7952</td>\n",
              "    </tr>\n",
              "    <tr>\n",
              "      <th>245</th>\n",
              "      <td>209.7500</td>\n",
              "      <td>1919.65</td>\n",
              "      <td>1242.10</td>\n",
              "      <td>109.1400</td>\n",
              "    </tr>\n",
              "    <tr>\n",
              "      <th>246</th>\n",
              "      <td>210.2400</td>\n",
              "      <td>1882.62</td>\n",
              "      <td>1214.38</td>\n",
              "      <td>107.6600</td>\n",
              "    </tr>\n",
              "    <tr>\n",
              "      <th>247</th>\n",
              "      <td>213.3200</td>\n",
              "      <td>1886.52</td>\n",
              "      <td>1206.49</td>\n",
              "      <td>107.6400</td>\n",
              "    </tr>\n",
              "    <tr>\n",
              "      <th>248</th>\n",
              "      <td>217.5800</td>\n",
              "      <td>1882.22</td>\n",
              "      <td>1200.96</td>\n",
              "      <td>107.5800</td>\n",
              "    </tr>\n",
              "    <tr>\n",
              "      <th>249</th>\n",
              "      <td>215.4600</td>\n",
              "      <td>1876.71</td>\n",
              "      <td>1207.77</td>\n",
              "      <td>106.8700</td>\n",
              "    </tr>\n",
              "    <tr>\n",
              "      <th>250</th>\n",
              "      <td>215.0400</td>\n",
              "      <td>1883.42</td>\n",
              "      <td>1201.62</td>\n",
              "      <td>105.9800</td>\n",
              "    </tr>\n",
              "    <tr>\n",
              "      <th>251</th>\n",
              "      <td>215.0500</td>\n",
              "      <td>1904.90</td>\n",
              "      <td>1207.33</td>\n",
              "      <td>107.0600</td>\n",
              "    </tr>\n",
              "  </tbody>\n",
              "</table>\n",
              "<p>252 rows × 4 columns</p>\n",
              "</div>"
            ],
            "text/plain": [
              "         AAPL     AMZN     GOOG      MSFT\n",
              "0    157.5971   958.00   927.00   71.4326\n",
              "1    156.8977   952.45   921.28   71.4031\n",
              "2    157.4789   945.26   915.89   71.5308\n",
              "3    159.0649   946.02   913.81   71.5407\n",
              "4    160.4835   954.06   921.29   71.7568\n",
              "5    160.9169   967.59   929.57   72.6998\n",
              "6    161.5572   980.60   939.33   73.4463\n",
              "7    161.6065   978.25   937.34   72.6310\n",
              "8    159.6658   965.27   928.45   72.3069\n",
              "9    159.4984   967.80   927.81   72.1006\n",
              "10   158.8581   979.47   935.95   73.0239\n",
              "11   156.2672   965.90   926.50   72.6703\n",
              "12   159.0945   977.96   929.08   73.4365\n",
              "13   158.4640   982.58   932.07   73.3579\n",
              "14   157.2720   999.60   935.09   73.8785\n",
              "15   155.9224   992.21   925.11   73.4463\n",
              "16   157.4986   986.79   920.29   73.9768\n",
              "17   156.3066   974.19   915.00   73.8294\n",
              "18   156.3657   969.86   921.81   74.1045\n",
              "19   153.7454   973.21   931.58   73.6133\n",
              "20   151.1053   964.65   932.45   72.8962\n",
              "21   149.6276   955.10   928.53   73.0927\n",
              "22   148.3076   939.79   920.97   71.9631\n",
              "23   150.8590   938.60   924.86   71.9631\n",
              "24   151.9328   950.87   944.49   72.5426\n",
              "25   150.9969   956.40   949.50   72.5623\n",
              "26   151.8244   961.35   959.11   73.1713\n",
              "27   151.5190   959.19   953.27   73.2892\n",
              "28   152.1790   957.10   957.79   72.9454\n",
              "29   151.1939   965.45   951.68   73.3677\n",
              "..        ...      ...      ...       ...\n",
              "222  190.3624  1796.62  1183.48  103.7906\n",
              "223  190.6613  1813.03  1188.82  105.0258\n",
              "224  190.2428  1822.49  1183.86  104.5078\n",
              "225  190.7809  1843.93  1198.80  105.5438\n",
              "226  189.7346  1842.92  1195.88  104.7170\n",
              "227  191.2094  1812.97  1186.96  103.9998\n",
              "228  190.7709  1813.70  1184.91  105.8626\n",
              "229  190.9404  1802.00  1205.50  107.5561\n",
              "230  192.3255  1829.24  1248.08  107.2473\n",
              "231  194.1391  1863.61  1263.70  110.4051\n",
              "232  193.5313  1808.00  1268.33  109.1998\n",
              "233  190.3126  1817.27  1238.50  107.2672\n",
              "234  189.2463  1779.22  1219.74  104.9661\n",
              "235  189.6250  1777.44  1217.26  105.6733\n",
              "236  200.7958  1797.17  1220.01  105.8726\n",
              "237  206.6652  1834.33  1226.15  107.1576\n",
              "238  207.2631  1823.29  1223.71  107.6258\n",
              "239  208.3393  1847.75  1224.77  107.7155\n",
              "240  206.3862  1862.48  1242.22  108.4626\n",
              "241  206.5257  1886.52  1245.61  109.0703\n",
              "242  208.1500  1898.52  1249.10  109.2496\n",
              "243  207.5300  1886.30  1237.61  108.5821\n",
              "244  208.8700  1896.20  1235.01  107.7952\n",
              "245  209.7500  1919.65  1242.10  109.1400\n",
              "246  210.2400  1882.62  1214.38  107.6600\n",
              "247  213.3200  1886.52  1206.49  107.6400\n",
              "248  217.5800  1882.22  1200.96  107.5800\n",
              "249  215.4600  1876.71  1207.77  106.8700\n",
              "250  215.0400  1883.42  1201.62  105.9800\n",
              "251  215.0500  1904.90  1207.33  107.0600\n",
              "\n",
              "[252 rows x 4 columns]"
            ]
          },
          "metadata": {
            "tags": []
          },
          "execution_count": 165
        }
      ]
    },
    {
      "metadata": {
        "id": "DdjLCrwC73Rg",
        "colab_type": "code",
        "colab": {
          "base_uri": "https://localhost:8080/",
          "height": 285
        },
        "outputId": "35e51b12-5b10-485f-ab0c-07503df2fc6a"
      },
      "cell_type": "code",
      "source": [
        "frame.plot()"
      ],
      "execution_count": 166,
      "outputs": [
        {
          "output_type": "execute_result",
          "data": {
            "text/plain": [
              "<matplotlib.axes._subplots.AxesSubplot at 0x7f31bee10da0>"
            ]
          },
          "metadata": {
            "tags": []
          },
          "execution_count": 166
        },
        {
          "output_type": "display_data",
          "data": {
            "image/png": "[encoded data removed]",
            "text/plain": [
              "<matplotlib.figure.Figure at 0x7f31bedd4438>"
            ]
          },
          "metadata": {
            "tags": []
          }
        }
      ]
    },
    {
      "metadata": {
        "id": "HAJvJ5S8GfgG",
        "colab_type": "code",
        "colab": {}
      },
      "cell_type": "code",
      "source": [
        "rets = frame.pct_change()"
      ],
      "execution_count": 0,
      "outputs": []
    },
    {
      "metadata": {
        "id": "0OPL8OtoGyiz",
        "colab_type": "code",
        "colab": {
          "base_uri": "https://localhost:8080/",
          "height": 202
        },
        "outputId": "f9e9dfd1-f8e7-40a7-d6e3-399937087e6c"
      },
      "cell_type": "code",
      "source": [
        "rets.head()"
      ],
      "execution_count": 168,
      "outputs": [
        {
          "output_type": "execute_result",
          "data": {
            "text/html": [
              "<div>\n",
              "<style scoped>\n",
              "    .dataframe tbody tr th:only-of-type {\n",
              "        vertical-align: middle;\n",
              "    }\n",
              "\n",
              "    .dataframe tbody tr th {\n",
              "        vertical-align: top;\n",
              "    }\n",
              "\n",
              "    .dataframe thead th {\n",
              "        text-align: right;\n",
              "    }\n",
              "</style>\n",
              "<table border=\"1\" class=\"dataframe\">\n",
              "  <thead>\n",
              "    <tr style=\"text-align: right;\">\n",
              "      <th></th>\n",
              "      <th>AAPL</th>\n",
              "      <th>AMZN</th>\n",
              "      <th>GOOG</th>\n",
              "      <th>MSFT</th>\n",
              "    </tr>\n",
              "  </thead>\n",
              "  <tbody>\n",
              "    <tr>\n",
              "      <th>0</th>\n",
              "      <td>NaN</td>\n",
              "      <td>NaN</td>\n",
              "      <td>NaN</td>\n",
              "      <td>NaN</td>\n",
              "    </tr>\n",
              "    <tr>\n",
              "      <th>1</th>\n",
              "      <td>-0.004438</td>\n",
              "      <td>-0.005793</td>\n",
              "      <td>-0.006170</td>\n",
              "      <td>-0.000413</td>\n",
              "    </tr>\n",
              "    <tr>\n",
              "      <th>2</th>\n",
              "      <td>0.003704</td>\n",
              "      <td>-0.007549</td>\n",
              "      <td>-0.005851</td>\n",
              "      <td>0.001788</td>\n",
              "    </tr>\n",
              "    <tr>\n",
              "      <th>3</th>\n",
              "      <td>0.010071</td>\n",
              "      <td>0.000804</td>\n",
              "      <td>-0.002271</td>\n",
              "      <td>0.000138</td>\n",
              "    </tr>\n",
              "    <tr>\n",
              "      <th>4</th>\n",
              "      <td>0.008918</td>\n",
              "      <td>0.008499</td>\n",
              "      <td>0.008186</td>\n",
              "      <td>0.003021</td>\n",
              "    </tr>\n",
              "  </tbody>\n",
              "</table>\n",
              "</div>"
            ],
            "text/plain": [
              "       AAPL      AMZN      GOOG      MSFT\n",
              "0       NaN       NaN       NaN       NaN\n",
              "1 -0.004438 -0.005793 -0.006170 -0.000413\n",
              "2  0.003704 -0.007549 -0.005851  0.001788\n",
              "3  0.010071  0.000804 -0.002271  0.000138\n",
              "4  0.008918  0.008499  0.008186  0.003021"
            ]
          },
          "metadata": {
            "tags": []
          },
          "execution_count": 168
        }
      ]
    },
    {
      "metadata": {
        "id": "-cdJIU4SG0Gz",
        "colab_type": "code",
        "colab": {
          "base_uri": "https://localhost:8080/",
          "height": 171
        },
        "outputId": "096ff4fd-e7f8-4df3-aa1a-1f3c18afe355"
      },
      "cell_type": "code",
      "source": [
        "rets.corr()"
      ],
      "execution_count": 169,
      "outputs": [
        {
          "output_type": "execute_result",
          "data": {
            "text/html": [
              "<div>\n",
              "<style scoped>\n",
              "    .dataframe tbody tr th:only-of-type {\n",
              "        vertical-align: middle;\n",
              "    }\n",
              "\n",
              "    .dataframe tbody tr th {\n",
              "        vertical-align: top;\n",
              "    }\n",
              "\n",
              "    .dataframe thead th {\n",
              "        text-align: right;\n",
              "    }\n",
              "</style>\n",
              "<table border=\"1\" class=\"dataframe\">\n",
              "  <thead>\n",
              "    <tr style=\"text-align: right;\">\n",
              "      <th></th>\n",
              "      <th>AAPL</th>\n",
              "      <th>AMZN</th>\n",
              "      <th>GOOG</th>\n",
              "      <th>MSFT</th>\n",
              "    </tr>\n",
              "  </thead>\n",
              "  <tbody>\n",
              "    <tr>\n",
              "      <th>AAPL</th>\n",
              "      <td>1.000000</td>\n",
              "      <td>0.472705</td>\n",
              "      <td>0.579855</td>\n",
              "      <td>0.590171</td>\n",
              "    </tr>\n",
              "    <tr>\n",
              "      <th>AMZN</th>\n",
              "      <td>0.472705</td>\n",
              "      <td>1.000000</td>\n",
              "      <td>0.649820</td>\n",
              "      <td>0.693804</td>\n",
              "    </tr>\n",
              "    <tr>\n",
              "      <th>GOOG</th>\n",
              "      <td>0.579855</td>\n",
              "      <td>0.649820</td>\n",
              "      <td>1.000000</td>\n",
              "      <td>0.778219</td>\n",
              "    </tr>\n",
              "    <tr>\n",
              "      <th>MSFT</th>\n",
              "      <td>0.590171</td>\n",
              "      <td>0.693804</td>\n",
              "      <td>0.778219</td>\n",
              "      <td>1.000000</td>\n",
              "    </tr>\n",
              "  </tbody>\n",
              "</table>\n",
              "</div>"
            ],
            "text/plain": [
              "          AAPL      AMZN      GOOG      MSFT\n",
              "AAPL  1.000000  0.472705  0.579855  0.590171\n",
              "AMZN  0.472705  1.000000  0.649820  0.693804\n",
              "GOOG  0.579855  0.649820  1.000000  0.778219\n",
              "MSFT  0.590171  0.693804  0.778219  1.000000"
            ]
          },
          "metadata": {
            "tags": []
          },
          "execution_count": 169
        }
      ]
    },
    {
      "metadata": {
        "id": "to1KG02lG2p1",
        "colab_type": "code",
        "colab": {}
      },
      "cell_type": "code",
      "source": [
        "import seaborn as sns\n",
        "import matplotlib.pyplot as plt"
      ],
      "execution_count": 0,
      "outputs": []
    },
    {
      "metadata": {
        "id": "BYZv72z7HBdK",
        "colab_type": "code",
        "colab": {
          "base_uri": "https://localhost:8080/",
          "height": 286
        },
        "outputId": "1dc8c69f-dc65-45a6-91b2-33a2c211d206"
      },
      "cell_type": "code",
      "source": [
        "sns.heatmap(rets.corr())"
      ],
      "execution_count": 172,
      "outputs": [
        {
          "output_type": "execute_result",
          "data": {
            "text/plain": [
              "<matplotlib.axes._subplots.AxesSubplot at 0x7f31bede1da0>"
            ]
          },
          "metadata": {
            "tags": []
          },
          "execution_count": 172
        },
        {
          "output_type": "display_data",
          "data": {
            "image/png": "[encoded data removed]",
            "text/plain": [
              "<matplotlib.figure.Figure at 0x7f31bede1550>"
            ]
          },
          "metadata": {
            "tags": []
          }
        }
      ]
    },
    {
      "metadata": {
        "id": "NFli43oCHIyV",
        "colab_type": "code",
        "colab": {}
      },
      "cell_type": "code",
      "source": [
        ""
      ],
      "execution_count": 0,
      "outputs": []
    }
  ]
}